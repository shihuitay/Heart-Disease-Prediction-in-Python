{
  "nbformat": 4,
  "nbformat_minor": 0,
  "metadata": {
    "colab": {
      "name": "Heart Disease Prediction in Python (Part 2).ipynb",
      "provenance": [],
      "collapsed_sections": [
        "wHYRA9iquD6b",
        "dLmLeLY7AEdh",
        "p0aOBY99E_Ho"
      ]
    },
    "kernelspec": {
      "name": "python3",
      "display_name": "Python 3"
    },
    "language_info": {
      "name": "python"
    }
  },
  "cells": [
    {
      "cell_type": "markdown",
      "source": [
        "#Imputation with Prediction"
      ],
      "metadata": {
        "id": "mSRdy8-ZZ4l8"
      }
    },
    {
      "cell_type": "code",
      "source": [
        "# Import libraries\n",
        "import pandas as pd\n",
        "import matplotlib.pyplot as plt\n",
        "import seaborn as sns\n",
        "import numpy as np\n",
        "import warnings\n",
        "warnings.filterwarnings('ignore')\n",
        "from matplotlib import rcParams\n",
        "from sklearn.preprocessing import StandardScaler"
      ],
      "metadata": {
        "id": "ZwnGrIDIaD6b"
      },
      "execution_count": 1,
      "outputs": []
    },
    {
      "cell_type": "code",
      "source": [
        "df = pd.read_csv('https://raw.githubusercontent.com/shihuitay/heart_diesease_ml-dataset/main/heart.csv',  index_col=0) # the cleaned dataset from Part 1"
      ],
      "metadata": {
        "id": "tk01kRsFtkxf"
      },
      "execution_count": 2,
      "outputs": []
    },
    {
      "cell_type": "code",
      "source": [
        "df_ori = df.copy()\n",
        "df.head()"
      ],
      "metadata": {
        "id": "WGY1LLa8-ifJ",
        "colab": {
          "base_uri": "https://localhost:8080/",
          "height": 206
        },
        "outputId": "20c9db70-5019-44db-d5b2-bd76ddf7ec55"
      },
      "execution_count": 3,
      "outputs": [
        {
          "output_type": "execute_result",
          "data": {
            "text/html": [
              "\n",
              "  <div id=\"df-97781e35-3aa0-4540-a775-0dc6f5721799\">\n",
              "    <div class=\"colab-df-container\">\n",
              "      <div>\n",
              "<style scoped>\n",
              "    .dataframe tbody tr th:only-of-type {\n",
              "        vertical-align: middle;\n",
              "    }\n",
              "\n",
              "    .dataframe tbody tr th {\n",
              "        vertical-align: top;\n",
              "    }\n",
              "\n",
              "    .dataframe thead th {\n",
              "        text-align: right;\n",
              "    }\n",
              "</style>\n",
              "<table border=\"1\" class=\"dataframe\">\n",
              "  <thead>\n",
              "    <tr style=\"text-align: right;\">\n",
              "      <th></th>\n",
              "      <th>age</th>\n",
              "      <th>sex</th>\n",
              "      <th>cp</th>\n",
              "      <th>trestbps</th>\n",
              "      <th>chol</th>\n",
              "      <th>fbs</th>\n",
              "      <th>restecg</th>\n",
              "      <th>thalch</th>\n",
              "      <th>exang</th>\n",
              "      <th>oldpeak</th>\n",
              "      <th>slope</th>\n",
              "      <th>ca</th>\n",
              "      <th>thal</th>\n",
              "      <th>heart disease</th>\n",
              "    </tr>\n",
              "  </thead>\n",
              "  <tbody>\n",
              "    <tr>\n",
              "      <th>0</th>\n",
              "      <td>63</td>\n",
              "      <td>1</td>\n",
              "      <td>0</td>\n",
              "      <td>145.0</td>\n",
              "      <td>233.0</td>\n",
              "      <td>1</td>\n",
              "      <td>2</td>\n",
              "      <td>150.0</td>\n",
              "      <td>0</td>\n",
              "      <td>2.3</td>\n",
              "      <td>2</td>\n",
              "      <td>0.0</td>\n",
              "      <td>1</td>\n",
              "      <td>0</td>\n",
              "    </tr>\n",
              "    <tr>\n",
              "      <th>1</th>\n",
              "      <td>67</td>\n",
              "      <td>1</td>\n",
              "      <td>3</td>\n",
              "      <td>160.0</td>\n",
              "      <td>286.0</td>\n",
              "      <td>0</td>\n",
              "      <td>2</td>\n",
              "      <td>108.0</td>\n",
              "      <td>1</td>\n",
              "      <td>1.5</td>\n",
              "      <td>1</td>\n",
              "      <td>3.0</td>\n",
              "      <td>0</td>\n",
              "      <td>1</td>\n",
              "    </tr>\n",
              "    <tr>\n",
              "      <th>2</th>\n",
              "      <td>67</td>\n",
              "      <td>1</td>\n",
              "      <td>3</td>\n",
              "      <td>120.0</td>\n",
              "      <td>229.0</td>\n",
              "      <td>0</td>\n",
              "      <td>2</td>\n",
              "      <td>129.0</td>\n",
              "      <td>1</td>\n",
              "      <td>2.6</td>\n",
              "      <td>1</td>\n",
              "      <td>2.0</td>\n",
              "      <td>2</td>\n",
              "      <td>1</td>\n",
              "    </tr>\n",
              "    <tr>\n",
              "      <th>3</th>\n",
              "      <td>37</td>\n",
              "      <td>1</td>\n",
              "      <td>2</td>\n",
              "      <td>130.0</td>\n",
              "      <td>250.0</td>\n",
              "      <td>0</td>\n",
              "      <td>0</td>\n",
              "      <td>187.0</td>\n",
              "      <td>0</td>\n",
              "      <td>3.5</td>\n",
              "      <td>2</td>\n",
              "      <td>0.0</td>\n",
              "      <td>0</td>\n",
              "      <td>0</td>\n",
              "    </tr>\n",
              "    <tr>\n",
              "      <th>4</th>\n",
              "      <td>41</td>\n",
              "      <td>0</td>\n",
              "      <td>1</td>\n",
              "      <td>130.0</td>\n",
              "      <td>204.0</td>\n",
              "      <td>0</td>\n",
              "      <td>2</td>\n",
              "      <td>172.0</td>\n",
              "      <td>0</td>\n",
              "      <td>1.4</td>\n",
              "      <td>0</td>\n",
              "      <td>0.0</td>\n",
              "      <td>0</td>\n",
              "      <td>0</td>\n",
              "    </tr>\n",
              "  </tbody>\n",
              "</table>\n",
              "</div>\n",
              "      <button class=\"colab-df-convert\" onclick=\"convertToInteractive('df-97781e35-3aa0-4540-a775-0dc6f5721799')\"\n",
              "              title=\"Convert this dataframe to an interactive table.\"\n",
              "              style=\"display:none;\">\n",
              "        \n",
              "  <svg xmlns=\"http://www.w3.org/2000/svg\" height=\"24px\"viewBox=\"0 0 24 24\"\n",
              "       width=\"24px\">\n",
              "    <path d=\"M0 0h24v24H0V0z\" fill=\"none\"/>\n",
              "    <path d=\"M18.56 5.44l.94 2.06.94-2.06 2.06-.94-2.06-.94-.94-2.06-.94 2.06-2.06.94zm-11 1L8.5 8.5l.94-2.06 2.06-.94-2.06-.94L8.5 2.5l-.94 2.06-2.06.94zm10 10l.94 2.06.94-2.06 2.06-.94-2.06-.94-.94-2.06-.94 2.06-2.06.94z\"/><path d=\"M17.41 7.96l-1.37-1.37c-.4-.4-.92-.59-1.43-.59-.52 0-1.04.2-1.43.59L10.3 9.45l-7.72 7.72c-.78.78-.78 2.05 0 2.83L4 21.41c.39.39.9.59 1.41.59.51 0 1.02-.2 1.41-.59l7.78-7.78 2.81-2.81c.8-.78.8-2.07 0-2.86zM5.41 20L4 18.59l7.72-7.72 1.47 1.35L5.41 20z\"/>\n",
              "  </svg>\n",
              "      </button>\n",
              "      \n",
              "  <style>\n",
              "    .colab-df-container {\n",
              "      display:flex;\n",
              "      flex-wrap:wrap;\n",
              "      gap: 12px;\n",
              "    }\n",
              "\n",
              "    .colab-df-convert {\n",
              "      background-color: #E8F0FE;\n",
              "      border: none;\n",
              "      border-radius: 50%;\n",
              "      cursor: pointer;\n",
              "      display: none;\n",
              "      fill: #1967D2;\n",
              "      height: 32px;\n",
              "      padding: 0 0 0 0;\n",
              "      width: 32px;\n",
              "    }\n",
              "\n",
              "    .colab-df-convert:hover {\n",
              "      background-color: #E2EBFA;\n",
              "      box-shadow: 0px 1px 2px rgba(60, 64, 67, 0.3), 0px 1px 3px 1px rgba(60, 64, 67, 0.15);\n",
              "      fill: #174EA6;\n",
              "    }\n",
              "\n",
              "    [theme=dark] .colab-df-convert {\n",
              "      background-color: #3B4455;\n",
              "      fill: #D2E3FC;\n",
              "    }\n",
              "\n",
              "    [theme=dark] .colab-df-convert:hover {\n",
              "      background-color: #434B5C;\n",
              "      box-shadow: 0px 1px 3px 1px rgba(0, 0, 0, 0.15);\n",
              "      filter: drop-shadow(0px 1px 2px rgba(0, 0, 0, 0.3));\n",
              "      fill: #FFFFFF;\n",
              "    }\n",
              "  </style>\n",
              "\n",
              "      <script>\n",
              "        const buttonEl =\n",
              "          document.querySelector('#df-97781e35-3aa0-4540-a775-0dc6f5721799 button.colab-df-convert');\n",
              "        buttonEl.style.display =\n",
              "          google.colab.kernel.accessAllowed ? 'block' : 'none';\n",
              "\n",
              "        async function convertToInteractive(key) {\n",
              "          const element = document.querySelector('#df-97781e35-3aa0-4540-a775-0dc6f5721799');\n",
              "          const dataTable =\n",
              "            await google.colab.kernel.invokeFunction('convertToInteractive',\n",
              "                                                     [key], {});\n",
              "          if (!dataTable) return;\n",
              "\n",
              "          const docLinkHtml = 'Like what you see? Visit the ' +\n",
              "            '<a target=\"_blank\" href=https://colab.research.google.com/notebooks/data_table.ipynb>data table notebook</a>'\n",
              "            + ' to learn more about interactive tables.';\n",
              "          element.innerHTML = '';\n",
              "          dataTable['output_type'] = 'display_data';\n",
              "          await google.colab.output.renderOutput(dataTable, element);\n",
              "          const docLink = document.createElement('div');\n",
              "          docLink.innerHTML = docLinkHtml;\n",
              "          element.appendChild(docLink);\n",
              "        }\n",
              "      </script>\n",
              "    </div>\n",
              "  </div>\n",
              "  "
            ],
            "text/plain": [
              "   age  sex  cp  trestbps   chol  ...  oldpeak  slope   ca  thal  heart disease\n",
              "0   63    1   0     145.0  233.0  ...      2.3      2  0.0     1              0\n",
              "1   67    1   3     160.0  286.0  ...      1.5      1  3.0     0              1\n",
              "2   67    1   3     120.0  229.0  ...      2.6      1  2.0     2              1\n",
              "3   37    1   2     130.0  250.0  ...      3.5      2  0.0     0              0\n",
              "4   41    0   1     130.0  204.0  ...      1.4      0  0.0     0              0\n",
              "\n",
              "[5 rows x 14 columns]"
            ]
          },
          "metadata": {},
          "execution_count": 3
        }
      ]
    },
    {
      "cell_type": "code",
      "source": [
        "# Remove the unknown values from 'ca', 'thal' and 'slope' columns and examine their correlation with other columns\n",
        "df2 = df[df.ca != 4][df.slope != 3][df.thal != 3]\n",
        "corr = df2.corr()\n",
        "plt.figure(figsize=(10,10))\n",
        "sns.heatmap(corr, annot=True, fmt= '.2f',annot_kws={'size': 10}, cmap= 'coolwarm')\n",
        "plt.show()"
      ],
      "metadata": {
        "colab": {
          "base_uri": "https://localhost:8080/",
          "height": 653
        },
        "id": "E9aeV13nrbAD",
        "outputId": "9768be7c-c6ff-4956-9a24-19342fba040b"
      },
      "execution_count": 4,
      "outputs": [
        {
          "output_type": "display_data",
          "data": {
            "image/png": "[encoded data removed]",
            "text/plain": [
              "<Figure size 720x720 with 2 Axes>"
            ]
          },
          "metadata": {
            "needs_background": "light"
          }
        }
      ]
    },
    {
      "cell_type": "markdown",
      "source": [
        "'ca' has strong correlation with 'heart disease' and 'age'<br>\n",
        "'slope' has strong correlation with 'oldpeak', 'thalch' and 'heart disease'<br>\n",
        "'thal' has strongest correlation with 'heart disease', 'sex', 'exang', 'oldpeak'<br>\n",
        "so we will try to use these features to predict the missing values.<br>\n",
        "<br>\n",
        "### Impute missing values with predictions (slope)"
      ],
      "metadata": {
        "id": "wHYRA9iquD6b"
      }
    },
    {
      "cell_type": "code",
      "source": [
        "#@title\n",
        "\n",
        "import pandas as pd\n",
        "import numpy as np\n",
        "import seaborn as sn\n",
        "from sklearn.model_selection import KFold\n",
        "from sklearn.ensemble import RandomForestClassifier\n",
        "from sklearn.metrics import accuracy_score, confusion_matrix, classification_report\n",
        "from sklearn.model_selection import train_test_split\n",
        "from sklearn import svm\n",
        "\n",
        "def random_forest_ml(x_train, y_train, x_test, y_test):\n",
        "  model = RandomForestClassifier(n_estimators = 200, max_depth = 200, random_state = 42)\n",
        "  model.fit(x_train, y_train)\n",
        "  y_pred = model.predict(x_test)\n",
        "\n",
        "  print(\"Random Forst Accuracy Score: \\t%.2f%%\" % (accuracy_score(y_test, y_pred) * 100))\n",
        "\n",
        "\n",
        "def svm_ml(x_train, y_train, x_test, y_test):\n",
        "  model = svm.SVC(kernel='linear', C=1.0)\n",
        "  model.fit(x_train, y_train)\n",
        "  y_pred = model.predict(x_test)\n",
        "  print(\"SVM Accuracy Score: \\t\\t%.2f%%\" % (accuracy_score(y_test, y_pred) * 100))\n",
        "\n",
        "df_missing_slope = df_ori[df_ori.slope == 3]\n",
        "df_no_missing_slope = df_ori[df_ori.slope != 3]\n",
        "df_train, df_test = train_test_split(df_no_missing_slope, test_size = 0.5)\n",
        "\n",
        "y_train = np.array(df_train['slope'])\n",
        "x_train = np.array(df_train[['oldpeak']])\n",
        "x_train2 = np.array(df_train[['oldpeak', 'thalch']])\n",
        "x_train3 = np.array(df_train[['oldpeak', 'thalch', 'heart disease']])\n",
        "x_train4 = np.array(df_train.drop('slope', axis=1))\n",
        "\n",
        "y_test = np.array(df_test['slope'])\n",
        "x_test = np.array(df_test[['oldpeak']])\n",
        "x_test2 = np.array(df_test[['oldpeak', 'thalch']])\n",
        "x_test3 = np.array(df_test[['oldpeak', 'thalch', 'heart disease']])\n",
        "x_test4 = np.array(df_test.drop('slope', axis=1))\n",
        "\n",
        "print(\"Prediction with 'oldpeak' as feature\")\n",
        "random_forest_ml(x_train, y_train, x_test, y_test)\n",
        "svm_ml(x_train, y_train, x_test, y_test)\n",
        "print(\"\\nPrediction with 'oldpeak' and 'thalch' as features\")\n",
        "random_forest_ml(x_train2, y_train, x_test2, y_test)\n",
        "svm_ml(x_train2, y_train, x_test2, y_test)\n",
        "print(\"\\nPrediction with 'oldpeak', 'thalch' and 'heart disease' as features\")\n",
        "random_forest_ml(x_train3, y_train, x_test3, y_test)\n",
        "svm_ml(x_train3, y_train, x_test3, y_test)\n",
        "print(\"\\nPrediction with all features\")\n",
        "random_forest_ml(x_train4, y_train, x_test4, y_test)\n",
        "svm_ml(x_train4, y_train, x_test4, y_test)"
      ],
      "metadata": {
        "colab": {
          "base_uri": "https://localhost:8080/"
        },
        "id": "ZmKLpZUws9Hb",
        "outputId": "69bc87fe-e9a7-48fe-9d72-25ad8e020c7e"
      },
      "execution_count": 5,
      "outputs": [
        {
          "output_type": "stream",
          "name": "stdout",
          "text": [
            "Prediction with 'oldpeak' as feature\n",
            "Random Forst Accuracy Score: \t69.37%\n",
            "SVM Accuracy Score: \t\t66.79%\n",
            "\n",
            "Prediction with 'oldpeak' and 'thalch' as features\n",
            "Random Forst Accuracy Score: \t59.41%\n",
            "SVM Accuracy Score: \t\t71.96%\n",
            "\n",
            "Prediction with 'oldpeak', 'thalch' and 'heart disease' as features\n",
            "Random Forst Accuracy Score: \t66.42%\n",
            "SVM Accuracy Score: \t\t73.80%\n",
            "\n",
            "Prediction with all features\n",
            "Random Forst Accuracy Score: \t73.06%\n",
            "SVM Accuracy Score: \t\t72.69%\n"
          ]
        }
      ]
    },
    {
      "cell_type": "markdown",
      "source": [
        "Anything below 80% is not good so we decide not to impute the missing values with predictions as it will introduce noises to our models.<br>\n",
        "<br>\n",
        "### Impute missing values with predictions (ca)"
      ],
      "metadata": {
        "id": "dLmLeLY7AEdh"
      }
    },
    {
      "cell_type": "code",
      "source": [
        "#@title\n",
        "\n",
        "# Compare the Random Forest Models with using different features for 'ca' column\n",
        "import pandas as pd\n",
        "import numpy as np\n",
        "import seaborn as sn\n",
        "from sklearn.model_selection import KFold\n",
        "from sklearn.ensemble import RandomForestClassifier\n",
        "from sklearn.metrics import accuracy_score, confusion_matrix, classification_report\n",
        "from sklearn.model_selection import train_test_split\n",
        "\n",
        "def random_forest_ml(x_train, y_train, x_test, y_test):\n",
        "  model = RandomForestClassifier(n_estimators = 200, max_depth = 200, random_state = 42)\n",
        "  model.fit(x_train, y_train)\n",
        "  y_pred = model.predict(x_test)\n",
        "  print(\"Random Forest Accuracy Score: \\t%.2f%%\" % (accuracy_score(y_test, y_pred) * 100))\n",
        "  \n",
        "def svm_ml(x_train, y_train, x_test, y_test):\n",
        "  model = svm.SVC(kernel='linear', C=1.0)\n",
        "  model.fit(x_train, y_train)\n",
        "  y_pred = model.predict(x_test)\n",
        "  print(\"SVM Accuracy Score: \\t\\t%.2f%%\" % (accuracy_score(y_test, y_pred) * 100))\n",
        "\n",
        "df_missing_ca = df_ori[df_ori.ca == 4]\n",
        "df_no_missing_ca = df_ori[df_ori.ca != 4]\n",
        "df_train, df_test = train_test_split(df_no_missing_ca, test_size = 0.5)\n",
        "\n",
        "y_train = np.array(df_train['ca'])\n",
        "x_train = np.array(df_train[['heart disease']])\n",
        "x_train2 = np.array(df_train[['heart disease', 'age']])\n",
        "x_train3 = np.array(df_train.drop('ca', axis=1))\n",
        "\n",
        "y_test = np.array(df_test['ca'])\n",
        "x_test = np.array(df_test[['heart disease']])\n",
        "x_test2 = np.array(df_test[['heart disease', 'age']])\n",
        "x_test3 = np.array(df_test.drop('ca', axis=1))\n",
        "\n",
        "print(\"Prediction with 'heart disease' feature\")\n",
        "random_forest_ml(x_train, y_train, x_test, y_test)\n",
        "svm_ml(x_train, y_train, x_test, y_test)\n",
        "print(\"\\nPrediction with 'heart disease' and 'age' features\")\n",
        "random_forest_ml(x_train2, y_train, x_test2, y_test)\n",
        "svm_ml(x_train2, y_train, x_test2, y_test)\n",
        "print(\"\\nPrediction with all features\")\n",
        "random_forest_ml(x_train3, y_train, x_test3, y_test)\n",
        "svm_ml(x_train3, y_train, x_test3, y_test)"
      ],
      "metadata": {
        "colab": {
          "base_uri": "https://localhost:8080/"
        },
        "id": "BULCRsodER3O",
        "outputId": "341599ab-1add-4d0b-f016-c1dfe473e526"
      },
      "execution_count": null,
      "outputs": [
        {
          "output_type": "stream",
          "name": "stdout",
          "text": [
            "Prediction with 'heart disease' feature\n",
            "Random Forest Accuracy Score: \t56.58%\n",
            "SVM Accuracy Score: \t\t56.58%\n",
            "\n",
            "Prediction with 'heart disease' and 'age' features\n",
            "Random Forest Accuracy Score: \t52.63%\n",
            "SVM Accuracy Score: \t\t56.58%\n",
            "\n",
            "Prediction with all features\n",
            "Random Forest Accuracy Score: \t64.47%\n",
            "SVM Accuracy Score: \t\t63.16%\n"
          ]
        }
      ]
    },
    {
      "cell_type": "markdown",
      "source": [
        "Same conclusion, we can't get more than 75% accuracy so we decide not to impute the missing values with predictions as it will introduce noises to our models.<br>\n",
        "<br>\n",
        "### Impute missing values with predictions (thal)"
      ],
      "metadata": {
        "id": "p0aOBY99E_Ho"
      }
    },
    {
      "cell_type": "code",
      "source": [
        "#@title\n",
        "\n",
        "# Compare the Random Forest Models with using different features for 'thal' column\n",
        "import pandas as pd\n",
        "import numpy as np\n",
        "import seaborn as sn\n",
        "from sklearn.model_selection import KFold\n",
        "from sklearn.ensemble import RandomForestClassifier\n",
        "from sklearn.metrics import accuracy_score, confusion_matrix, classification_report\n",
        "from sklearn.model_selection import train_test_split\n",
        "\n",
        "def random_forest_ml(x_train, y_train, x_test, y_test):\n",
        "  model = RandomForestClassifier(n_estimators = 200, max_depth = 200, random_state = 42)\n",
        "  model.fit(x_train, y_train)\n",
        "  y_pred = model.predict(x_test)\n",
        "  print(\"Random Forst Accuracy Score: \\t%.2f%%\" % (accuracy_score(y_test, y_pred) * 100))\n",
        "  \n",
        "def svm_ml(x_train, y_train, x_test, y_test):\n",
        "  model = svm.SVC(kernel='linear', C=1.0)\n",
        "  model.fit(x_train, y_train)\n",
        "  y_pred = model.predict(x_test)\n",
        "  print(\"SVM Accuracy Score: \\t\\t%.2f%%\" % (accuracy_score(y_test, y_pred) * 100))\n",
        "\n",
        "df_missing_thal = df_ori[df_ori.thal == 3]\n",
        "df_no_missing_thal = df_ori[df_ori.thal != 3]\n",
        "df_train, df_test = train_test_split(df_no_missing_thal, test_size = 0.5)\n",
        "\n",
        "y_train = np.array(df_train['thal'])\n",
        "x_train = np.array(df_train[['heart disease']])\n",
        "x_train2 = np.array(df_train[['heart disease', 'sex']])\n",
        "x_train3 = np.array(df_train[['heart disease', 'sex', 'exang']])\n",
        "x_train4 = np.array(df_train.drop('thal', axis=1))\n",
        "\n",
        "y_test = np.array(df_test['thal'])\n",
        "x_test = np.array(df_test[['heart disease']])\n",
        "x_test2 = np.array(df_test[['heart disease', 'sex']])\n",
        "x_test3 = np.array(df_test[['heart disease', 'sex', 'exang']])\n",
        "x_test4 = np.array(df_test.drop('thal', axis=1))\n",
        "\n",
        "print(\"Prediction with 'heart disease' feature\")\n",
        "random_forest_ml(x_train, y_train, x_test, y_test)\n",
        "svm_ml(x_train, y_train, x_test, y_test)\n",
        "print(\"\\nPrediction with 'heart disease' and 'sex' features\")\n",
        "random_forest_ml(x_train2, y_train, x_test2, y_test)\n",
        "svm_ml(x_train2, y_train, x_test2, y_test)\n",
        "print(\"\\nPrediction with 'heart disease', 'sex' and 'exang' features\")\n",
        "random_forest_ml(x_train3, y_train, x_test3, y_test)\n",
        "svm_ml(x_train3, y_train, x_test3, y_test)\n",
        "print(\"\\nPrediction with all features\")\n",
        "random_forest_ml(x_train4, y_train, x_test4, y_test)\n",
        "svm_ml(x_train4, y_train, x_test4, y_test)"
      ],
      "metadata": {
        "colab": {
          "base_uri": "https://localhost:8080/"
        },
        "id": "vfvkTXLSF2uY",
        "outputId": "3b505af5-2b35-47c9-8d4d-1a16d2f98d62"
      },
      "execution_count": null,
      "outputs": [
        {
          "output_type": "stream",
          "name": "stdout",
          "text": [
            "Prediction with 'heart disease' feature\n",
            "Random Forst Accuracy Score: \t66.83%\n",
            "SVM Accuracy Score: \t\t66.83%\n",
            "\n",
            "Prediction with 'heart disease' and 'sex' features\n",
            "Random Forst Accuracy Score: \t66.83%\n",
            "SVM Accuracy Score: \t\t66.83%\n",
            "\n",
            "Prediction with 'heart disease', 'sex' and 'exang' features\n",
            "Random Forst Accuracy Score: \t67.82%\n",
            "SVM Accuracy Score: \t\t66.83%\n",
            "\n",
            "Prediction with all features\n",
            "Random Forst Accuracy Score: \t67.82%\n",
            "SVM Accuracy Score: \t\t66.83%\n"
          ]
        }
      ]
    },
    {
      "cell_type": "markdown",
      "source": [
        "Same conclusion, we can't get more than 75% accuracy so we decide not to impute the missing values with predictions as it will introduce noises to our models.\n"
      ],
      "metadata": {
        "id": "9CRW6jtNNowa"
      }
    },
    {
      "cell_type": "markdown",
      "source": [
        "### Remove missing values"
      ],
      "metadata": {
        "id": "dt6HQJusrUN9"
      }
    },
    {
      "cell_type": "markdown",
      "source": [
        "We can't impute the missing values for the 'ca', 'thal' and 'slope' columns, so we will remove the row and the columns"
      ],
      "metadata": {
        "id": "9p5WwVqhrv91"
      }
    },
    {
      "cell_type": "code",
      "source": [
        "# Load the engineered dataset in which the continuous features had been scaled and categorical features had been one-hot encoded in Part 1 of this project\n",
        "df_ml = pd.read_csv('https://raw.githubusercontent.com/shihuitay/heart_diesease_ml-dataset/main/heart_machine_learning.csv',  index_col=0)"
      ],
      "metadata": {
        "id": "DV4SycpzrYdX"
      },
      "execution_count": 6,
      "outputs": []
    },
    {
      "cell_type": "code",
      "source": [
        "# Check columns before removing\n",
        "print(df_ml.columns)\n"
      ],
      "metadata": {
        "colab": {
          "base_uri": "https://localhost:8080/"
        },
        "id": "-sO7D3gXrscH",
        "outputId": "95107d35-27a1-45bc-987b-18b83b0473c5"
      },
      "execution_count": 7,
      "outputs": [
        {
          "output_type": "stream",
          "name": "stdout",
          "text": [
            "Index(['age', 'trestbps', 'chol', 'thalch', 'oldpeak', 'heart disease',\n",
            "       'sex_0', 'sex_1', 'cp_3', 'cp_1', 'cp_2', 'cp_0', 'fbs_0', 'fbs_1',\n",
            "       'restecg_2', 'restecg_0', 'restecg_1', 'exang_0', 'exang_1', 'slope_2',\n",
            "       'slope_1', 'slope_3', 'slope_0', 'ca_0.0', 'ca_1.0', 'ca_2.0', 'ca_3.0',\n",
            "       'ca_4.0', 'thal_1', 'thal_0', 'thal_2', 'thal_3'],\n",
            "      dtype='object')\n"
          ]
        }
      ]
    },
    {
      "cell_type": "code",
      "source": [
        "# Check number of rows before removing\n",
        "print(len(df_ml))"
      ],
      "metadata": {
        "colab": {
          "base_uri": "https://localhost:8080/"
        },
        "id": "2RV5YNAVrtDw",
        "outputId": "dfa15b7c-66d0-41cd-a739-024b3e367633"
      },
      "execution_count": null,
      "outputs": [
        {
          "output_type": "stream",
          "name": "stdout",
          "text": [
            "772\n"
          ]
        }
      ]
    },
    {
      "cell_type": "code",
      "source": [
        "# Remove rows contains missing values in 'ca', 'slope' and 'thal'\n",
        "df_ml = df_ml[df_ml['ca_4.0'] != 1][df_ml.slope_3 != 1][df_ml.thal_3 != 1]\n",
        "\n",
        "# Drop the columns\n",
        "df_ml.drop(['slope_3', 'ca_4.0', 'thal_3'], axis=1, inplace=True)\n",
        "\n",
        "# Check columns after removing\n",
        "print(df_ml.columns)"
      ],
      "metadata": {
        "colab": {
          "base_uri": "https://localhost:8080/"
        },
        "id": "NDJHlMfYr8uH",
        "outputId": "5ea8a37f-03bf-4b7a-efad-6a79d771e1b8"
      },
      "execution_count": 8,
      "outputs": [
        {
          "output_type": "stream",
          "name": "stdout",
          "text": [
            "Index(['age', 'trestbps', 'chol', 'thalch', 'oldpeak', 'heart disease',\n",
            "       'sex_0', 'sex_1', 'cp_3', 'cp_1', 'cp_2', 'cp_0', 'fbs_0', 'fbs_1',\n",
            "       'restecg_2', 'restecg_0', 'restecg_1', 'exang_0', 'exang_1', 'slope_2',\n",
            "       'slope_1', 'slope_0', 'ca_0.0', 'ca_1.0', 'ca_2.0', 'ca_3.0', 'thal_1',\n",
            "       'thal_0', 'thal_2'],\n",
            "      dtype='object')\n"
          ]
        }
      ]
    },
    {
      "cell_type": "code",
      "source": [
        "# Check number of rows afer removing\n",
        "print(len(df_ml))"
      ],
      "metadata": {
        "colab": {
          "base_uri": "https://localhost:8080/"
        },
        "id": "DAeOp6R0r-7J",
        "outputId": "5a3c2282-2fb3-4a3f-c0fe-c7dede0a42ba"
      },
      "execution_count": null,
      "outputs": [
        {
          "output_type": "stream",
          "name": "stdout",
          "text": [
            "299\n"
          ]
        }
      ]
    },
    {
      "cell_type": "code",
      "source": [
        "# The dataset with missing values removed\n",
        "df_ml.head()"
      ],
      "metadata": {
        "colab": {
          "base_uri": "https://localhost:8080/",
          "height": 287
        },
        "id": "6IiOelras19o",
        "outputId": "ce6530d5-bc9e-42a8-9af2-c90b25b29252"
      },
      "execution_count": null,
      "outputs": [
        {
          "output_type": "execute_result",
          "data": {
            "text/html": [
              "\n",
              "  <div id=\"df-489d163d-ba99-4f9f-83ce-674bc9acf152\">\n",
              "    <div class=\"colab-df-container\">\n",
              "      <div>\n",
              "<style scoped>\n",
              "    .dataframe tbody tr th:only-of-type {\n",
              "        vertical-align: middle;\n",
              "    }\n",
              "\n",
              "    .dataframe tbody tr th {\n",
              "        vertical-align: top;\n",
              "    }\n",
              "\n",
              "    .dataframe thead th {\n",
              "        text-align: right;\n",
              "    }\n",
              "</style>\n",
              "<table border=\"1\" class=\"dataframe\">\n",
              "  <thead>\n",
              "    <tr style=\"text-align: right;\">\n",
              "      <th></th>\n",
              "      <th>age</th>\n",
              "      <th>trestbps</th>\n",
              "      <th>chol</th>\n",
              "      <th>thalch</th>\n",
              "      <th>oldpeak</th>\n",
              "      <th>heart disease</th>\n",
              "      <th>sex_0</th>\n",
              "      <th>sex_1</th>\n",
              "      <th>cp_3</th>\n",
              "      <th>cp_1</th>\n",
              "      <th>cp_2</th>\n",
              "      <th>cp_0</th>\n",
              "      <th>fbs_0</th>\n",
              "      <th>fbs_1</th>\n",
              "      <th>restecg_2</th>\n",
              "      <th>restecg_0</th>\n",
              "      <th>restecg_1</th>\n",
              "      <th>exang_0</th>\n",
              "      <th>exang_1</th>\n",
              "      <th>slope_2</th>\n",
              "      <th>slope_1</th>\n",
              "      <th>slope_0</th>\n",
              "      <th>ca_0.0</th>\n",
              "      <th>ca_1.0</th>\n",
              "      <th>ca_2.0</th>\n",
              "      <th>ca_3.0</th>\n",
              "      <th>thal_1</th>\n",
              "      <th>thal_0</th>\n",
              "      <th>thal_2</th>\n",
              "    </tr>\n",
              "  </thead>\n",
              "  <tbody>\n",
              "    <tr>\n",
              "      <th>0</th>\n",
              "      <td>1.052551</td>\n",
              "      <td>0.742169</td>\n",
              "      <td>0.083947</td>\n",
              "      <td>0.438890</td>\n",
              "      <td>1.446854</td>\n",
              "      <td>0</td>\n",
              "      <td>0</td>\n",
              "      <td>1</td>\n",
              "      <td>0</td>\n",
              "      <td>0</td>\n",
              "      <td>0</td>\n",
              "      <td>1</td>\n",
              "      <td>0</td>\n",
              "      <td>1</td>\n",
              "      <td>1</td>\n",
              "      <td>0</td>\n",
              "      <td>0</td>\n",
              "      <td>1</td>\n",
              "      <td>0</td>\n",
              "      <td>1</td>\n",
              "      <td>0</td>\n",
              "      <td>0</td>\n",
              "      <td>1</td>\n",
              "      <td>0</td>\n",
              "      <td>0</td>\n",
              "      <td>0</td>\n",
              "      <td>1</td>\n",
              "      <td>0</td>\n",
              "      <td>0</td>\n",
              "    </tr>\n",
              "    <tr>\n",
              "      <th>1</th>\n",
              "      <td>1.476537</td>\n",
              "      <td>1.631331</td>\n",
              "      <td>0.878638</td>\n",
              "      <td>-1.189416</td>\n",
              "      <td>0.643928</td>\n",
              "      <td>1</td>\n",
              "      <td>0</td>\n",
              "      <td>1</td>\n",
              "      <td>1</td>\n",
              "      <td>0</td>\n",
              "      <td>0</td>\n",
              "      <td>0</td>\n",
              "      <td>1</td>\n",
              "      <td>0</td>\n",
              "      <td>1</td>\n",
              "      <td>0</td>\n",
              "      <td>0</td>\n",
              "      <td>0</td>\n",
              "      <td>1</td>\n",
              "      <td>0</td>\n",
              "      <td>1</td>\n",
              "      <td>0</td>\n",
              "      <td>0</td>\n",
              "      <td>0</td>\n",
              "      <td>0</td>\n",
              "      <td>1</td>\n",
              "      <td>0</td>\n",
              "      <td>1</td>\n",
              "      <td>0</td>\n",
              "    </tr>\n",
              "    <tr>\n",
              "      <th>2</th>\n",
              "      <td>1.476537</td>\n",
              "      <td>-0.739767</td>\n",
              "      <td>0.023970</td>\n",
              "      <td>-0.375263</td>\n",
              "      <td>1.747951</td>\n",
              "      <td>1</td>\n",
              "      <td>0</td>\n",
              "      <td>1</td>\n",
              "      <td>1</td>\n",
              "      <td>0</td>\n",
              "      <td>0</td>\n",
              "      <td>0</td>\n",
              "      <td>1</td>\n",
              "      <td>0</td>\n",
              "      <td>1</td>\n",
              "      <td>0</td>\n",
              "      <td>0</td>\n",
              "      <td>0</td>\n",
              "      <td>1</td>\n",
              "      <td>0</td>\n",
              "      <td>1</td>\n",
              "      <td>0</td>\n",
              "      <td>0</td>\n",
              "      <td>0</td>\n",
              "      <td>1</td>\n",
              "      <td>0</td>\n",
              "      <td>0</td>\n",
              "      <td>0</td>\n",
              "      <td>1</td>\n",
              "    </tr>\n",
              "    <tr>\n",
              "      <th>3</th>\n",
              "      <td>-1.703359</td>\n",
              "      <td>-0.146993</td>\n",
              "      <td>0.338848</td>\n",
              "      <td>1.873351</td>\n",
              "      <td>2.651243</td>\n",
              "      <td>0</td>\n",
              "      <td>0</td>\n",
              "      <td>1</td>\n",
              "      <td>0</td>\n",
              "      <td>0</td>\n",
              "      <td>1</td>\n",
              "      <td>0</td>\n",
              "      <td>1</td>\n",
              "      <td>0</td>\n",
              "      <td>0</td>\n",
              "      <td>1</td>\n",
              "      <td>0</td>\n",
              "      <td>1</td>\n",
              "      <td>0</td>\n",
              "      <td>1</td>\n",
              "      <td>0</td>\n",
              "      <td>0</td>\n",
              "      <td>1</td>\n",
              "      <td>0</td>\n",
              "      <td>0</td>\n",
              "      <td>0</td>\n",
              "      <td>0</td>\n",
              "      <td>1</td>\n",
              "      <td>0</td>\n",
              "    </tr>\n",
              "    <tr>\n",
              "      <th>4</th>\n",
              "      <td>-1.279373</td>\n",
              "      <td>-0.146993</td>\n",
              "      <td>-0.350884</td>\n",
              "      <td>1.291813</td>\n",
              "      <td>0.543562</td>\n",
              "      <td>0</td>\n",
              "      <td>1</td>\n",
              "      <td>0</td>\n",
              "      <td>0</td>\n",
              "      <td>1</td>\n",
              "      <td>0</td>\n",
              "      <td>0</td>\n",
              "      <td>1</td>\n",
              "      <td>0</td>\n",
              "      <td>1</td>\n",
              "      <td>0</td>\n",
              "      <td>0</td>\n",
              "      <td>1</td>\n",
              "      <td>0</td>\n",
              "      <td>0</td>\n",
              "      <td>0</td>\n",
              "      <td>1</td>\n",
              "      <td>1</td>\n",
              "      <td>0</td>\n",
              "      <td>0</td>\n",
              "      <td>0</td>\n",
              "      <td>0</td>\n",
              "      <td>1</td>\n",
              "      <td>0</td>\n",
              "    </tr>\n",
              "  </tbody>\n",
              "</table>\n",
              "</div>\n",
              "      <button class=\"colab-df-convert\" onclick=\"convertToInteractive('df-489d163d-ba99-4f9f-83ce-674bc9acf152')\"\n",
              "              title=\"Convert this dataframe to an interactive table.\"\n",
              "              style=\"display:none;\">\n",
              "        \n",
              "  <svg xmlns=\"http://www.w3.org/2000/svg\" height=\"24px\"viewBox=\"0 0 24 24\"\n",
              "       width=\"24px\">\n",
              "    <path d=\"M0 0h24v24H0V0z\" fill=\"none\"/>\n",
              "    <path d=\"M18.56 5.44l.94 2.06.94-2.06 2.06-.94-2.06-.94-.94-2.06-.94 2.06-2.06.94zm-11 1L8.5 8.5l.94-2.06 2.06-.94-2.06-.94L8.5 2.5l-.94 2.06-2.06.94zm10 10l.94 2.06.94-2.06 2.06-.94-2.06-.94-.94-2.06-.94 2.06-2.06.94z\"/><path d=\"M17.41 7.96l-1.37-1.37c-.4-.4-.92-.59-1.43-.59-.52 0-1.04.2-1.43.59L10.3 9.45l-7.72 7.72c-.78.78-.78 2.05 0 2.83L4 21.41c.39.39.9.59 1.41.59.51 0 1.02-.2 1.41-.59l7.78-7.78 2.81-2.81c.8-.78.8-2.07 0-2.86zM5.41 20L4 18.59l7.72-7.72 1.47 1.35L5.41 20z\"/>\n",
              "  </svg>\n",
              "      </button>\n",
              "      \n",
              "  <style>\n",
              "    .colab-df-container {\n",
              "      display:flex;\n",
              "      flex-wrap:wrap;\n",
              "      gap: 12px;\n",
              "    }\n",
              "\n",
              "    .colab-df-convert {\n",
              "      background-color: #E8F0FE;\n",
              "      border: none;\n",
              "      border-radius: 50%;\n",
              "      cursor: pointer;\n",
              "      display: none;\n",
              "      fill: #1967D2;\n",
              "      height: 32px;\n",
              "      padding: 0 0 0 0;\n",
              "      width: 32px;\n",
              "    }\n",
              "\n",
              "    .colab-df-convert:hover {\n",
              "      background-color: #E2EBFA;\n",
              "      box-shadow: 0px 1px 2px rgba(60, 64, 67, 0.3), 0px 1px 3px 1px rgba(60, 64, 67, 0.15);\n",
              "      fill: #174EA6;\n",
              "    }\n",
              "\n",
              "    [theme=dark] .colab-df-convert {\n",
              "      background-color: #3B4455;\n",
              "      fill: #D2E3FC;\n",
              "    }\n",
              "\n",
              "    [theme=dark] .colab-df-convert:hover {\n",
              "      background-color: #434B5C;\n",
              "      box-shadow: 0px 1px 3px 1px rgba(0, 0, 0, 0.15);\n",
              "      filter: drop-shadow(0px 1px 2px rgba(0, 0, 0, 0.3));\n",
              "      fill: #FFFFFF;\n",
              "    }\n",
              "  </style>\n",
              "\n",
              "      <script>\n",
              "        const buttonEl =\n",
              "          document.querySelector('#df-489d163d-ba99-4f9f-83ce-674bc9acf152 button.colab-df-convert');\n",
              "        buttonEl.style.display =\n",
              "          google.colab.kernel.accessAllowed ? 'block' : 'none';\n",
              "\n",
              "        async function convertToInteractive(key) {\n",
              "          const element = document.querySelector('#df-489d163d-ba99-4f9f-83ce-674bc9acf152');\n",
              "          const dataTable =\n",
              "            await google.colab.kernel.invokeFunction('convertToInteractive',\n",
              "                                                     [key], {});\n",
              "          if (!dataTable) return;\n",
              "\n",
              "          const docLinkHtml = 'Like what you see? Visit the ' +\n",
              "            '<a target=\"_blank\" href=https://colab.research.google.com/notebooks/data_table.ipynb>data table notebook</a>'\n",
              "            + ' to learn more about interactive tables.';\n",
              "          element.innerHTML = '';\n",
              "          dataTable['output_type'] = 'display_data';\n",
              "          await google.colab.output.renderOutput(dataTable, element);\n",
              "          const docLink = document.createElement('div');\n",
              "          docLink.innerHTML = docLinkHtml;\n",
              "          element.appendChild(docLink);\n",
              "        }\n",
              "      </script>\n",
              "    </div>\n",
              "  </div>\n",
              "  "
            ],
            "text/plain": [
              "        age  trestbps      chol    thalch  ...  ca_3.0  thal_1  thal_0  thal_2\n",
              "0  1.052551  0.742169  0.083947  0.438890  ...       0       1       0       0\n",
              "1  1.476537  1.631331  0.878638 -1.189416  ...       1       0       1       0\n",
              "2  1.476537 -0.739767  0.023970 -0.375263  ...       0       0       0       1\n",
              "3 -1.703359 -0.146993  0.338848  1.873351  ...       0       0       1       0\n",
              "4 -1.279373 -0.146993 -0.350884  1.291813  ...       0       0       1       0\n",
              "\n",
              "[5 rows x 29 columns]"
            ]
          },
          "metadata": {},
          "execution_count": 13
        }
      ]
    },
    {
      "cell_type": "markdown",
      "source": [
        "#Exploratory Data Analysis"
      ],
      "metadata": {
        "id": "2dgVJLFYq97a"
      }
    },
    {
      "cell_type": "code",
      "source": [
        "# Use the cleaned dataset from Part 1 \n",
        "# Plot the distribution of each feature\n",
        "rcParams['figure.figsize'] = 16, 10\n",
        "df.hist()\n",
        "warnings.filterwarnings('ignore')"
      ],
      "metadata": {
        "id": "VSIzUwt0Bi3l",
        "colab": {
          "base_uri": "https://localhost:8080/",
          "height": 607
        },
        "outputId": "8d3073cc-adb0-4790-dec8-54747788c1d1"
      },
      "execution_count": null,
      "outputs": [
        {
          "output_type": "display_data",
          "data": {
            "image/png": "[encoded data removed]",
            "text/plain": [
              "<Figure size 1152x720 with 16 Axes>"
            ]
          },
          "metadata": {
            "needs_background": "light"
          }
        }
      ]
    },
    {
      "cell_type": "markdown",
      "source": [
        "We have 13 predictive variables (five continuous and eight categorical) and one dependent variable. Each continuous variable has a different range of distribution. Hence, feature scaling (which had been done in Part 1 of this project) prior to machine learning modeling is essential."
      ],
      "metadata": {
        "id": "0j5gShsnHzBv"
      }
    },
    {
      "cell_type": "code",
      "source": [
        "df['heart disease'].value_counts()"
      ],
      "metadata": {
        "id": "xDlAKSOyDan1",
        "colab": {
          "base_uri": "https://localhost:8080/"
        },
        "outputId": "5980ebdf-3b86-4688-d754-cf022b5db0af"
      },
      "execution_count": null,
      "outputs": [
        {
          "output_type": "execute_result",
          "data": {
            "text/plain": [
              "1    396\n",
              "0    376\n",
              "Name: heart disease, dtype: int64"
            ]
          },
          "metadata": {},
          "execution_count": 15
        }
      ]
    },
    {
      "cell_type": "code",
      "source": [
        "# Plot a bar chart showing  the percentage of patients with and without heart disease\n",
        "plt.figure(figsize=(4,5))\n",
        "plt.bar(df['heart disease'].unique(), df['heart disease'].value_counts()*100/(len(df)), color = ['red', 'green'])\n",
        "plt.xticks([0, 1], labels=['No', 'Yes'])\n",
        "plt.xlabel('Presence of Heart Disease')\n",
        "plt.ylabel('Percentage (%)')\n",
        "plt.title('Presence of Heart Disease')"
      ],
      "metadata": {
        "id": "-G2JxdUq_WwZ",
        "colab": {
          "base_uri": "https://localhost:8080/",
          "height": 368
        },
        "outputId": "0357bc82-e426-4b1f-934c-575b90e392ef"
      },
      "execution_count": null,
      "outputs": [
        {
          "output_type": "execute_result",
          "data": {
            "text/plain": [
              "Text(0.5, 1.0, 'Presence of Heart Disease')"
            ]
          },
          "metadata": {},
          "execution_count": 16
        },
        {
          "output_type": "display_data",
          "data": {
            "image/png": "[encoded data removed]",
            "text/plain": [
              "<Figure size 288x360 with 1 Axes>"
            ]
          },
          "metadata": {
            "needs_background": "light"
          }
        }
      ]
    },
    {
      "cell_type": "markdown",
      "source": [
        "Heart disease patients made up nearly 50% of the dataset."
      ],
      "metadata": {
        "id": "Zbpm-U1JFBBa"
      }
    },
    {
      "cell_type": "code",
      "source": [
        "# Visualize the correlation for all continuous variables\n",
        "matrix= df[['age','trestbps','chol','thalch','oldpeak', 'heart disease']]\n",
        "corr_matrix = matrix.corr()\n",
        "fig, ax = plt.subplots(figsize=(10, 7))\n",
        "ax = sns.heatmap(corr_matrix, annot=True, fmt=\".2f\",cmap=\"YlGnBu\")\n"
      ],
      "metadata": {
        "id": "ba_n-cFDLOZF",
        "colab": {
          "base_uri": "https://localhost:8080/",
          "height": 432
        },
        "outputId": "6f84576c-cc3a-42bd-88d1-762335ce0743"
      },
      "execution_count": null,
      "outputs": [
        {
          "output_type": "display_data",
          "data": {
            "image/png": "[encoded data removed]",
            "text/plain": [
              "<Figure size 720x504 with 2 Axes>"
            ]
          },
          "metadata": {
            "needs_background": "light"
          }
        }
      ]
    },
    {
      "cell_type": "markdown",
      "source": [
        "- Old peak has the strongest positive correlation with heart disease.\n",
        "- Thalch (maximum heart rate achieved) has the strongest negative correlation with heart disease."
      ],
      "metadata": {
        "id": "PizB3bHnFwzW"
      }
    },
    {
      "cell_type": "code",
      "source": [
        "# Split the dataset into \"presence of heart disease\" and \"absence of heart disease\"\n",
        "group = df.groupby('heart disease')\n",
        "present_df = group.get_group(1)\n",
        "absent_df = group.get_group(0)"
      ],
      "metadata": {
        "id": "QDXRabd0J_gl"
      },
      "execution_count": null,
      "outputs": []
    },
    {
      "cell_type": "markdown",
      "source": [
        "## Visualize and Interpret the Distribution of Continuous Variables"
      ],
      "metadata": {
        "id": "TFp7bJUizwAn"
      }
    },
    {
      "cell_type": "code",
      "source": [
        "a1 = present_df['age']\n",
        "a1mean = present_df['age'].mean()\n",
        "a1median = present_df['age'].median()\n",
        "a2 = absent_df['age']\n",
        "a2mean = absent_df['age'].mean()\n",
        "a2median = absent_df['age'].median()\n",
        "\n",
        "fig, axs=plt.subplots(nrows=1, ncols=2, figsize=(10, 5))\n",
        "ax1 = a1.plot(kind='hist', ax=axs[0], color='r')\n",
        "a1_mean = ax1.vlines(a1mean, ymin=0, ymax=100, label='Mean')\n",
        "a1_median = ax1.vlines(a1median, ymin=0, ymax=100, label='Median', linestyle='--')\n",
        "ax1.set_title('With Heart Disease', size=12.5)\n",
        "ax1.legend(bbox_to_anchor = (1.0, 1), loc = 'up', handles=[a1_mean, a1_median])\n",
        "\n",
        "ax2 = a2.plot(kind='hist', ax=axs[1])\n",
        "a2_mean = ax2.vlines(a1mean, ymin=0, ymax=100, label='Mean')\n",
        "a2_median = ax2.vlines(a2median, ymin=0, ymax=100, label='Median', linestyle='--')\n",
        "ax2.set_title('Without Heart Disease', size=12.5)\n",
        "ax2.legend(bbox_to_anchor = (1.0, 1), loc = 'up', handles=[a2_mean, a2_median])\n",
        "fig.suptitle('Distribution of Age', size=16)\n",
        "plt.show()"
      ],
      "metadata": {
        "id": "dRx6qv-T4WbQ",
        "colab": {
          "base_uri": "https://localhost:8080/",
          "height": 356
        },
        "outputId": "381f7e0e-7ecb-4c5b-d090-e3aa0c029cfa"
      },
      "execution_count": null,
      "outputs": [
        {
          "output_type": "display_data",
          "data": {
            "image/png": "[encoded data removed]",
            "text/plain": [
              "<Figure size 720x360 with 2 Axes>"
            ]
          },
          "metadata": {
            "needs_background": "light"
          }
        }
      ]
    },
    {
      "cell_type": "markdown",
      "source": [
        "There is no significant difference observed in the distribution of age in people with or without heart disease. However, people of age between 55 and 65 appear to have a higher risk of getting heart disease."
      ],
      "metadata": {
        "id": "PdCndYPIIQnD"
      }
    },
    {
      "cell_type": "code",
      "source": [
        "b1 = present_df['trestbps']\n",
        "b1mean = present_df['trestbps'].mean()\n",
        "b1median = present_df['trestbps'].median()\n",
        "b2 = absent_df['trestbps']\n",
        "b2mean = absent_df['trestbps'].mean()\n",
        "b2median = absent_df['trestbps'].median()\n",
        "\n",
        "fig, axs=plt.subplots(nrows=1, ncols=2, figsize=(10, 5))\n",
        "ax1 = b1.plot(kind='hist', ax=axs[0], bins=8, color='r')\n",
        "b1_mean = ax1.vlines(b1mean, ymin=0, ymax=100, label='Mean')\n",
        "b1_median = ax1.vlines(b1median, ymin=0, ymax=100, label='Median', linestyle='--')\n",
        "ax1.set_title('With Heart Disease', size=12.5)\n",
        "ax1.set_xlabel('Resting Blood Pressure  (mm Hg)')\n",
        "ax1.legend(bbox_to_anchor = (1.0, 1), loc = 'up', handles=[b1_mean, b1_median])\n",
        "\n",
        "ax2 = b2.plot(kind='hist', ax=axs[1], bins=8)\n",
        "b2_mean = ax2.vlines(b2mean, ymin=0, ymax=100, label='Mean')\n",
        "b2_median = ax2.vlines(b2median, ymin=0, ymax=100, label='Median', linestyle='--')\n",
        "ax2.set_title('Without Heart Disease', size=12.5)\n",
        "ax2.set_xlabel('Resting Blood Pressure  (mm Hg)')\n",
        "ax2.legend(bbox_to_anchor = (1.0, 1), loc = 'up', handles=[b2_mean, b2_median])\n",
        "fig.suptitle('Distribution of Resting Blood Pressure', size=16)\n",
        "plt.show()"
      ],
      "metadata": {
        "id": "uo56EVLk56Yp",
        "colab": {
          "base_uri": "https://localhost:8080/",
          "height": 370
        },
        "outputId": "e37bb6b9-95a2-4634-a5c9-331be5c986be"
      },
      "execution_count": null,
      "outputs": [
        {
          "output_type": "display_data",
          "data": {
            "image/png": "[encoded data removed]",
            "text/plain": [
              "<Figure size 720x360 with 2 Axes>"
            ]
          },
          "metadata": {
            "needs_background": "light"
          }
        }
      ]
    },
    {
      "cell_type": "markdown",
      "source": [
        "The distribution of resting blood pressure in heart disease patients is right skewed, which means that a lot of patients have higher blood pressure values."
      ],
      "metadata": {
        "id": "XaTqvOkPJRRu"
      }
    },
    {
      "cell_type": "code",
      "source": [
        "c1 = present_df['chol']\n",
        "c1mean = present_df['chol'].mean()\n",
        "c1median = present_df['chol'].median()\n",
        "c2 = absent_df['chol']\n",
        "c2mean = absent_df['chol'].mean()\n",
        "c2median = absent_df['chol'].median()\n",
        "\n",
        "fig, axs=plt.subplots(nrows=1, ncols=2, figsize=(10, 5))\n",
        "ax1 = c1.plot(kind='hist', ax=axs[0], bins=8, color='r')\n",
        "c1_mean = ax1.vlines(c1mean, ymin=0, ymax=105, label='Mean')\n",
        "c1_median = ax1.vlines(c1median, ymin=0, ymax=120, label='Median', linestyle='--')\n",
        "ax1.set_title('With Heart Disease', size=12.5)\n",
        "ax1.set_xlabel('Cholesterol (mg/dl)')\n",
        "ax1.legend(bbox_to_anchor = (1.0, 1), loc = 'up', handles=[c1_mean, c1_median])\n",
        "\n",
        "ax2 = c2.plot(kind='hist', ax=axs[1], bins=8)\n",
        "c2_mean = ax2.vlines(c2mean, ymin=0, ymax=105, label='Mean')\n",
        "c2_median = ax2.vlines(c2median, ymin=0, ymax=120, label='Median', linestyle='--')\n",
        "ax2.set_title('Without Heart Disease', size=12.5)\n",
        "ax2.set_xlabel('Cholesterol (mg/dl)')\n",
        "ax2.legend(bbox_to_anchor = (1.0, 1), loc = 'up', handles=[c2_mean, c2_median])\n",
        "fig.suptitle('Distribution of Serum Cholesterol', size=16)\n",
        "plt.show()"
      ],
      "metadata": {
        "id": "HURglsNX-4iH",
        "colab": {
          "base_uri": "https://localhost:8080/",
          "height": 370
        },
        "outputId": "3b61f35d-6423-482c-9fc1-5779a6912c2f"
      },
      "execution_count": null,
      "outputs": [
        {
          "output_type": "display_data",
          "data": {
            "image/png": "[encoded data removed]",
            "text/plain": [
              "<Figure size 720x360 with 2 Axes>"
            ]
          },
          "metadata": {
            "needs_background": "light"
          }
        }
      ]
    },
    {
      "cell_type": "markdown",
      "source": [
        "A significant number of heart disease patients have low serum cholesterol (below 150 mg/dl). However, when comparing both distributions, we can see that there are more heart disease patients having high serum cholesterol, as shown by the median."
      ],
      "metadata": {
        "id": "Uhb9vgvRYShM"
      }
    },
    {
      "cell_type": "code",
      "source": [
        "d1 = present_df['thalch']\n",
        "d1mean = present_df['thalch'].mean()\n",
        "d1median = present_df['thalch'].median()\n",
        "d2 = absent_df['thalch']\n",
        "d2mean = absent_df['thalch'].mean()\n",
        "d2median = absent_df['thalch'].median()\n",
        "\n",
        "fig, axs=plt.subplots(nrows=1, ncols=2, figsize=(10, 5))\n",
        "ax1 = d1.plot(kind='hist', ax=axs[0], color='r')\n",
        "d1_mean = ax1.vlines(d1mean, ymin=0, ymax=100, label='Mean')\n",
        "d1_median = ax1.vlines(d1median, ymin=0, ymax=100, label='Median', linestyle='--')\n",
        "ax1.set_title('With Heart Disease', size=12.5)\n",
        "ax1.legend(bbox_to_anchor = (1.0, 1), loc = 'up', handles=[d1_mean, d1_median])\n",
        "\n",
        "ax2 = d2.plot(kind='hist', ax=axs[1])\n",
        "d2_mean = ax2.vlines(d2mean, ymin=0, ymax=100, label='Mean')\n",
        "d2_median = ax2.vlines(d2median, ymin=0, ymax=100, label='Median', linestyle='--')\n",
        "ax2.set_title('Without Heart Disease', size=12.5)\n",
        "ax2.legend(bbox_to_anchor = (1.0, 1), loc = 'up', handles=[d2_mean, d2_median])\n",
        "fig.suptitle('Distribution of Maximum Heart Rate', size=16)\n",
        "plt.show()"
      ],
      "metadata": {
        "id": "C80WFrHd_oAI",
        "colab": {
          "base_uri": "https://localhost:8080/",
          "height": 356
        },
        "outputId": "f861e9dc-b9b5-4e24-a922-39d600025fd8"
      },
      "execution_count": null,
      "outputs": [
        {
          "output_type": "display_data",
          "data": {
            "image/png": "[encoded data removed]",
            "text/plain": [
              "<Figure size 720x360 with 2 Axes>"
            ]
          },
          "metadata": {
            "needs_background": "light"
          }
        }
      ]
    },
    {
      "cell_type": "markdown",
      "source": [
        "Heart disease patients generally have lower maximum heart rates (130) compared to those without heart disease (150)."
      ],
      "metadata": {
        "id": "cV2SMe5FZVlK"
      }
    },
    {
      "cell_type": "code",
      "source": [
        "e1 = present_df['oldpeak']\n",
        "e1mean = present_df['oldpeak'].mean()\n",
        "e1median = present_df['oldpeak'].median()\n",
        "e2 = absent_df['oldpeak']\n",
        "e2mean = absent_df['oldpeak'].mean()\n",
        "e2median = absent_df['oldpeak'].median()\n",
        "\n",
        "fig, axs=plt.subplots(nrows=1, ncols=2, figsize=(10, 5))\n",
        "ax1 = e1.plot(kind='hist', ax=axs[0], color='r')\n",
        "e1_mean = ax1.vlines(e1mean, ymin=0, ymax=120, label='Mean')\n",
        "e1_median = ax1.vlines(e1median, ymin=0, ymax=250, label='Median', linestyle='--')\n",
        "ax1.set_title('With Heart Disease', size=12.5)\n",
        "ax1.legend(bbox_to_anchor = (1.0, 1), loc = 'up', handles=[e1_mean, e1_median])\n",
        "\n",
        "ax2 = e2.plot(kind='hist', ax=axs[1])\n",
        "e2_mean = ax2.vlines(e2mean, ymin=0, ymax=250, label='Mean')\n",
        "e2_median = ax2.vlines(e2median, ymin=0, ymax=250, label='Median', linestyle='--')\n",
        "ax2.set_title('Without Heart Disease', size=12.5)\n",
        "ax2.legend(bbox_to_anchor = (1.0, 1), loc = 'up', handles=[e2_mean, e2_median])\n",
        "fig.suptitle('Distribution of ST Depression', size=16)\n",
        "plt.show()"
      ],
      "metadata": {
        "id": "vYZpj3FNAk1q",
        "colab": {
          "base_uri": "https://localhost:8080/",
          "height": 356
        },
        "outputId": "9f1bf721-82f7-4a1c-80f3-00186edf7f65"
      },
      "execution_count": null,
      "outputs": [
        {
          "output_type": "display_data",
          "data": {
            "image/png": "[encoded data removed]",
            "text/plain": [
              "<Figure size 720x360 with 2 Axes>"
            ]
          },
          "metadata": {
            "needs_background": "light"
          }
        }
      ]
    },
    {
      "cell_type": "markdown",
      "source": [
        "ST Depression of heart disease patients ranges from -1 to around 3.5, while most people without heart disease have a ST Depression value of 0."
      ],
      "metadata": {
        "id": "KbvSRf4yl1nC"
      }
    },
    {
      "cell_type": "markdown",
      "source": [
        "## Visualize and Interpret the Distribution of Categorical Variables"
      ],
      "metadata": {
        "id": "Z8i7obQH0HSN"
      }
    },
    {
      "cell_type": "code",
      "source": [
        "# Categorize heart disease patients into male (1) and female (0)\n",
        "presence=[]\n",
        "for i in df['sex'].unique():\n",
        "  print(i)\n",
        "  presence.append(len(df[(df['sex']==i) & (df['heart disease']==1)]))\n",
        "\n",
        "presence_percent=[k*100/sum(presence) for k in presence]\n",
        "print(presence_percent)"
      ],
      "metadata": {
        "id": "Ud4b7C04i_vi",
        "colab": {
          "base_uri": "https://localhost:8080/"
        },
        "outputId": "50bec7be-801d-46c4-da4d-c486a2725f56"
      },
      "execution_count": null,
      "outputs": [
        {
          "output_type": "stream",
          "name": "stdout",
          "text": [
            "1\n",
            "0\n",
            "[89.14141414141415, 10.858585858585858]\n"
          ]
        }
      ]
    },
    {
      "cell_type": "code",
      "source": [
        "plt.figure(figsize=(4,5))\n",
        "plt.bar(['Male', 'Female'], presence_percent, color = ['indigo', 'crimson'])\n",
        "plt.ylabel('Percentage (%)')\n",
        "plt.title('Percentage of Heart Disease Patients based on Gender')"
      ],
      "metadata": {
        "id": "9lPCF7r2i3YV",
        "colab": {
          "base_uri": "https://localhost:8080/",
          "height": 355
        },
        "outputId": "d6a5233f-f992-4ef1-bb20-ef67a40c697b"
      },
      "execution_count": null,
      "outputs": [
        {
          "output_type": "execute_result",
          "data": {
            "text/plain": [
              "Text(0.5, 1.0, 'Percentage of Heart Disease Patients based on Gender')"
            ]
          },
          "metadata": {},
          "execution_count": 72
        },
        {
          "output_type": "display_data",
          "data": {
            "image/png": "[encoded data removed]",
            "text/plain": [
              "<Figure size 288x360 with 1 Axes>"
            ]
          },
          "metadata": {
            "needs_background": "light"
          }
        }
      ]
    },
    {
      "cell_type": "markdown",
      "source": [
        "Almost 90% of the heart disease patients are male."
      ],
      "metadata": {
        "id": "hp1Ii-98i4YV"
      }
    },
    {
      "cell_type": "code",
      "source": [
        "chest = present_df.groupby(['cp', 'sex'])['heart disease'].count()\n",
        "chest = (chest/chest.sum())*100\n",
        "\n",
        "rcParams['figure.figsize'] = 8, 6\n",
        "chest.unstack().plot(kind='bar')\n",
        "plt.xlabel('Chest Pain Type')\n",
        "plt.ylabel('Percentage (%)')\n",
        "plt.title(\"Most Common Chest Pain Types in Heart Disease Patients \")\n",
        "plt.xticks([0, 1, 2, 3], labels=['Typical Angina','Atypical Angina','Non-Anginal', 'Asymptomatic'], rotation=0)\n",
        "plt.legend(['Female', 'Male'])\n",
        "plt.show()"
      ],
      "metadata": {
        "id": "EbvgLFH5EV0O",
        "colab": {
          "base_uri": "https://localhost:8080/",
          "height": 404
        },
        "outputId": "9990efcb-6fb0-4521-d864-eff01ca706f0"
      },
      "execution_count": null,
      "outputs": [
        {
          "output_type": "display_data",
          "data": {
            "image/png": "[encoded data removed]",
            "text/plain": [
              "<Figure size 576x432 with 1 Axes>"
            ]
          },
          "metadata": {
            "needs_background": "light"
          }
        }
      ]
    },
    {
      "cell_type": "markdown",
      "source": [
        "Asymptomatic is the most common type of chest pain found in heart disease patients."
      ],
      "metadata": {
        "id": "BVXfzHsfn3XB"
      }
    },
    {
      "cell_type": "code",
      "source": [
        "rest = present_df.groupby(['restecg', 'sex'])['heart disease'].count()\n",
        "rest = (rest/rest.sum())*100\n",
        "\n",
        "rcParams['figure.figsize'] = 8, 6\n",
        "rest.unstack().plot(kind='bar')\n",
        "plt.xlabel('Resting Electrocardiographic Results')\n",
        "plt.ylabel('Percentage (%)')\n",
        "plt.title(\"Resting ECG of Heart Disease Patients\")\n",
        "plt.xticks([0, 1, 2], labels=['Normal', 'STT Abnormality','LV Hypertrophy'], rotation=0)\n",
        "plt.legend(['Female', 'Male'])\n",
        "plt.show()"
      ],
      "metadata": {
        "id": "HNQl7K_3DOIE",
        "colab": {
          "base_uri": "https://localhost:8080/",
          "height": 404
        },
        "outputId": "61cb7cf0-cea2-4723-e19d-9ef0b9a0ff93"
      },
      "execution_count": null,
      "outputs": [
        {
          "output_type": "display_data",
          "data": {
            "image/png": "[encoded data removed]",
            "text/plain": [
              "<Figure size 576x432 with 1 Axes>"
            ]
          },
          "metadata": {
            "needs_background": "light"
          }
        }
      ]
    },
    {
      "cell_type": "markdown",
      "source": [
        "Most heart disease patients have normal resting ECG"
      ],
      "metadata": {
        "id": "ZlThv27LoJLC"
      }
    },
    {
      "cell_type": "code",
      "source": [
        "fasting = present_df.groupby(['fbs', 'sex'])['heart disease'].count()\n",
        "fasting = (fasting/fasting.sum())*100\n",
        "\n",
        "rcParams['figure.figsize'] = 6, 4\n",
        "fasting.unstack().plot(kind='bar')\n",
        "plt.xlabel('Fasting blood sugar (>126 mg/dL signals diabetes)')\n",
        "plt.ylabel('Percentage (%)')\n",
        "plt.title(\"Fasting blood sugar of Heart Disease Patients\")\n",
        "plt.xticks([0, 1], labels=['False', 'True'], rotation=0)\n",
        "plt.legend(['Female', 'Male'])\n",
        "plt.show()\n",
        "\n"
      ],
      "metadata": {
        "id": "haR2FUMyEO8R",
        "colab": {
          "base_uri": "https://localhost:8080/",
          "height": 295
        },
        "outputId": "7aee3461-8bfe-4436-e497-c5f416c45536"
      },
      "execution_count": null,
      "outputs": [
        {
          "output_type": "display_data",
          "data": {
            "image/png": "[encoded data removed]",
            "text/plain": [
              "<Figure size 432x288 with 1 Axes>"
            ]
          },
          "metadata": {
            "needs_background": "light"
          }
        }
      ]
    },
    {
      "cell_type": "markdown",
      "source": [
        "Most heart disease patients have less than 126 mg/dl of fasting blood sugar."
      ],
      "metadata": {
        "id": "EuX5Y1Csokv3"
      }
    },
    {
      "cell_type": "code",
      "source": [
        "exercise = present_df.groupby(['exang', 'sex'])['heart disease'].count()\n",
        "exercise = (exercise/exercise.sum())*100\n",
        "\n",
        "rcParams['figure.figsize'] = 6, 4\n",
        "exercise.unstack().plot(kind='bar')\n",
        "plt.xlabel('Exercise-Induced Angina')\n",
        "plt.ylabel('Percentage (%)')\n",
        "plt.title(\"Exercise-Induced Angina in Heart Disease Patients \")\n",
        "plt.xticks([0, 1], labels=['False', 'True'], rotation=0)\n",
        "plt.legend(['Female', 'Male'])\n",
        "plt.show()\n"
      ],
      "metadata": {
        "id": "NJCpnS8EEtTZ",
        "colab": {
          "base_uri": "https://localhost:8080/",
          "height": 295
        },
        "outputId": "a67ad925-bf02-4da8-ac13-c008f202e0cc"
      },
      "execution_count": null,
      "outputs": [
        {
          "output_type": "display_data",
          "data": {
            "image/png": "[encoded data removed]",
            "text/plain": [
              "<Figure size 432x288 with 1 Axes>"
            ]
          },
          "metadata": {
            "needs_background": "light"
          }
        }
      ]
    },
    {
      "cell_type": "markdown",
      "source": [
        "More than 50% of patient have exercise-induced angina."
      ],
      "metadata": {
        "id": "X-hwmvfyp7eE"
      }
    },
    {
      "cell_type": "code",
      "source": [
        "plt.figure(figsize=(20,16))\n",
        "plt.subplot(3, 3, 1)\n",
        "df['ca'].value_counts()\n",
        "sns.countplot(data=df, x='ca')\n",
        "plt.xticks([0, 1, 2, 3, 4], labels=['0','1','2','3','Unknown'])\n",
        "\n",
        "plt.subplot(3, 3, 2)\n",
        "df['slope'].value_counts()\n",
        "sns.countplot(data=df, x='slope')\n",
        "plt.xticks([0, 1, 2, 3], labels=['Upsloping', 'Flat','Downsloping', 'Unknown'])\n",
        "\n",
        "plt.subplot(3, 3, 3)\n",
        "df['thal'].value_counts()\n",
        "sns.countplot(data=df, x='thal')\n",
        "plt.xticks([0, 1, 2, 3], labels=['Normal', 'Fixed defect','Reversable defect', 'Unknown'])\n",
        "\n",
        "warnings.filterwarnings('ignore')"
      ],
      "metadata": {
        "id": "QsMIVwNdI6iM",
        "colab": {
          "base_uri": "https://localhost:8080/",
          "height": 305
        },
        "outputId": "8f7503fd-f563-4812-f720-117cc819169d"
      },
      "execution_count": null,
      "outputs": [
        {
          "output_type": "display_data",
          "data": {
            "image/png": "[encoded data removed]",
            "text/plain": [
              "<Figure size 1440x1152 with 3 Axes>"
            ]
          },
          "metadata": {
            "needs_background": "light"
          }
        }
      ]
    },
    {
      "cell_type": "markdown",
      "source": [
        "Since these features contain relatively high number of 'unknown', we are not going to draw any conclusion on them."
      ],
      "metadata": {
        "id": "AWiVNxQQwm2W"
      }
    },
    {
      "cell_type": "markdown",
      "source": [
        "# Modelling"
      ],
      "metadata": {
        "id": "wezPaazgqEV6"
      }
    },
    {
      "cell_type": "markdown",
      "source": [
        "### Shuffle the dataset"
      ],
      "metadata": {
        "id": "EzaJko_qqJdO"
      }
    },
    {
      "cell_type": "code",
      "source": [
        "# Before shuffling\n",
        "df_ml.head() # Note: the continuous features had been scaled in Part 1 of this project"
      ],
      "metadata": {
        "colab": {
          "base_uri": "https://localhost:8080/",
          "height": 288
        },
        "id": "Ji2VGlIa4JMR",
        "outputId": "b636cfba-10f5-42ba-e4a9-dbf238a73ec8"
      },
      "execution_count": 9,
      "outputs": [
        {
          "output_type": "execute_result",
          "data": {
            "text/html": [
              "\n",
              "  <div id=\"df-fc87937c-5f63-451c-85ed-7397c5bc2f56\">\n",
              "    <div class=\"colab-df-container\">\n",
              "      <div>\n",
              "<style scoped>\n",
              "    .dataframe tbody tr th:only-of-type {\n",
              "        vertical-align: middle;\n",
              "    }\n",
              "\n",
              "    .dataframe tbody tr th {\n",
              "        vertical-align: top;\n",
              "    }\n",
              "\n",
              "    .dataframe thead th {\n",
              "        text-align: right;\n",
              "    }\n",
              "</style>\n",
              "<table border=\"1\" class=\"dataframe\">\n",
              "  <thead>\n",
              "    <tr style=\"text-align: right;\">\n",
              "      <th></th>\n",
              "      <th>age</th>\n",
              "      <th>trestbps</th>\n",
              "      <th>chol</th>\n",
              "      <th>thalch</th>\n",
              "      <th>oldpeak</th>\n",
              "      <th>heart disease</th>\n",
              "      <th>sex_0</th>\n",
              "      <th>sex_1</th>\n",
              "      <th>cp_3</th>\n",
              "      <th>cp_1</th>\n",
              "      <th>cp_2</th>\n",
              "      <th>cp_0</th>\n",
              "      <th>fbs_0</th>\n",
              "      <th>fbs_1</th>\n",
              "      <th>restecg_2</th>\n",
              "      <th>restecg_0</th>\n",
              "      <th>restecg_1</th>\n",
              "      <th>exang_0</th>\n",
              "      <th>exang_1</th>\n",
              "      <th>slope_2</th>\n",
              "      <th>slope_1</th>\n",
              "      <th>slope_0</th>\n",
              "      <th>ca_0.0</th>\n",
              "      <th>ca_1.0</th>\n",
              "      <th>ca_2.0</th>\n",
              "      <th>ca_3.0</th>\n",
              "      <th>thal_1</th>\n",
              "      <th>thal_0</th>\n",
              "      <th>thal_2</th>\n",
              "    </tr>\n",
              "  </thead>\n",
              "  <tbody>\n",
              "    <tr>\n",
              "      <th>0</th>\n",
              "      <td>1.052551</td>\n",
              "      <td>0.742169</td>\n",
              "      <td>0.083947</td>\n",
              "      <td>0.438890</td>\n",
              "      <td>1.446854</td>\n",
              "      <td>0</td>\n",
              "      <td>0</td>\n",
              "      <td>1</td>\n",
              "      <td>0</td>\n",
              "      <td>0</td>\n",
              "      <td>0</td>\n",
              "      <td>1</td>\n",
              "      <td>0</td>\n",
              "      <td>1</td>\n",
              "      <td>1</td>\n",
              "      <td>0</td>\n",
              "      <td>0</td>\n",
              "      <td>1</td>\n",
              "      <td>0</td>\n",
              "      <td>1</td>\n",
              "      <td>0</td>\n",
              "      <td>0</td>\n",
              "      <td>1</td>\n",
              "      <td>0</td>\n",
              "      <td>0</td>\n",
              "      <td>0</td>\n",
              "      <td>1</td>\n",
              "      <td>0</td>\n",
              "      <td>0</td>\n",
              "    </tr>\n",
              "    <tr>\n",
              "      <th>1</th>\n",
              "      <td>1.476537</td>\n",
              "      <td>1.631331</td>\n",
              "      <td>0.878638</td>\n",
              "      <td>-1.189416</td>\n",
              "      <td>0.643928</td>\n",
              "      <td>1</td>\n",
              "      <td>0</td>\n",
              "      <td>1</td>\n",
              "      <td>1</td>\n",
              "      <td>0</td>\n",
              "      <td>0</td>\n",
              "      <td>0</td>\n",
              "      <td>1</td>\n",
              "      <td>0</td>\n",
              "      <td>1</td>\n",
              "      <td>0</td>\n",
              "      <td>0</td>\n",
              "      <td>0</td>\n",
              "      <td>1</td>\n",
              "      <td>0</td>\n",
              "      <td>1</td>\n",
              "      <td>0</td>\n",
              "      <td>0</td>\n",
              "      <td>0</td>\n",
              "      <td>0</td>\n",
              "      <td>1</td>\n",
              "      <td>0</td>\n",
              "      <td>1</td>\n",
              "      <td>0</td>\n",
              "    </tr>\n",
              "    <tr>\n",
              "      <th>2</th>\n",
              "      <td>1.476537</td>\n",
              "      <td>-0.739767</td>\n",
              "      <td>0.023970</td>\n",
              "      <td>-0.375263</td>\n",
              "      <td>1.747951</td>\n",
              "      <td>1</td>\n",
              "      <td>0</td>\n",
              "      <td>1</td>\n",
              "      <td>1</td>\n",
              "      <td>0</td>\n",
              "      <td>0</td>\n",
              "      <td>0</td>\n",
              "      <td>1</td>\n",
              "      <td>0</td>\n",
              "      <td>1</td>\n",
              "      <td>0</td>\n",
              "      <td>0</td>\n",
              "      <td>0</td>\n",
              "      <td>1</td>\n",
              "      <td>0</td>\n",
              "      <td>1</td>\n",
              "      <td>0</td>\n",
              "      <td>0</td>\n",
              "      <td>0</td>\n",
              "      <td>1</td>\n",
              "      <td>0</td>\n",
              "      <td>0</td>\n",
              "      <td>0</td>\n",
              "      <td>1</td>\n",
              "    </tr>\n",
              "    <tr>\n",
              "      <th>3</th>\n",
              "      <td>-1.703359</td>\n",
              "      <td>-0.146993</td>\n",
              "      <td>0.338848</td>\n",
              "      <td>1.873351</td>\n",
              "      <td>2.651243</td>\n",
              "      <td>0</td>\n",
              "      <td>0</td>\n",
              "      <td>1</td>\n",
              "      <td>0</td>\n",
              "      <td>0</td>\n",
              "      <td>1</td>\n",
              "      <td>0</td>\n",
              "      <td>1</td>\n",
              "      <td>0</td>\n",
              "      <td>0</td>\n",
              "      <td>1</td>\n",
              "      <td>0</td>\n",
              "      <td>1</td>\n",
              "      <td>0</td>\n",
              "      <td>1</td>\n",
              "      <td>0</td>\n",
              "      <td>0</td>\n",
              "      <td>1</td>\n",
              "      <td>0</td>\n",
              "      <td>0</td>\n",
              "      <td>0</td>\n",
              "      <td>0</td>\n",
              "      <td>1</td>\n",
              "      <td>0</td>\n",
              "    </tr>\n",
              "    <tr>\n",
              "      <th>4</th>\n",
              "      <td>-1.279373</td>\n",
              "      <td>-0.146993</td>\n",
              "      <td>-0.350884</td>\n",
              "      <td>1.291813</td>\n",
              "      <td>0.543562</td>\n",
              "      <td>0</td>\n",
              "      <td>1</td>\n",
              "      <td>0</td>\n",
              "      <td>0</td>\n",
              "      <td>1</td>\n",
              "      <td>0</td>\n",
              "      <td>0</td>\n",
              "      <td>1</td>\n",
              "      <td>0</td>\n",
              "      <td>1</td>\n",
              "      <td>0</td>\n",
              "      <td>0</td>\n",
              "      <td>1</td>\n",
              "      <td>0</td>\n",
              "      <td>0</td>\n",
              "      <td>0</td>\n",
              "      <td>1</td>\n",
              "      <td>1</td>\n",
              "      <td>0</td>\n",
              "      <td>0</td>\n",
              "      <td>0</td>\n",
              "      <td>0</td>\n",
              "      <td>1</td>\n",
              "      <td>0</td>\n",
              "    </tr>\n",
              "  </tbody>\n",
              "</table>\n",
              "</div>\n",
              "      <button class=\"colab-df-convert\" onclick=\"convertToInteractive('df-fc87937c-5f63-451c-85ed-7397c5bc2f56')\"\n",
              "              title=\"Convert this dataframe to an interactive table.\"\n",
              "              style=\"display:none;\">\n",
              "        \n",
              "  <svg xmlns=\"http://www.w3.org/2000/svg\" height=\"24px\"viewBox=\"0 0 24 24\"\n",
              "       width=\"24px\">\n",
              "    <path d=\"M0 0h24v24H0V0z\" fill=\"none\"/>\n",
              "    <path d=\"M18.56 5.44l.94 2.06.94-2.06 2.06-.94-2.06-.94-.94-2.06-.94 2.06-2.06.94zm-11 1L8.5 8.5l.94-2.06 2.06-.94-2.06-.94L8.5 2.5l-.94 2.06-2.06.94zm10 10l.94 2.06.94-2.06 2.06-.94-2.06-.94-.94-2.06-.94 2.06-2.06.94z\"/><path d=\"M17.41 7.96l-1.37-1.37c-.4-.4-.92-.59-1.43-.59-.52 0-1.04.2-1.43.59L10.3 9.45l-7.72 7.72c-.78.78-.78 2.05 0 2.83L4 21.41c.39.39.9.59 1.41.59.51 0 1.02-.2 1.41-.59l7.78-7.78 2.81-2.81c.8-.78.8-2.07 0-2.86zM5.41 20L4 18.59l7.72-7.72 1.47 1.35L5.41 20z\"/>\n",
              "  </svg>\n",
              "      </button>\n",
              "      \n",
              "  <style>\n",
              "    .colab-df-container {\n",
              "      display:flex;\n",
              "      flex-wrap:wrap;\n",
              "      gap: 12px;\n",
              "    }\n",
              "\n",
              "    .colab-df-convert {\n",
              "      background-color: #E8F0FE;\n",
              "      border: none;\n",
              "      border-radius: 50%;\n",
              "      cursor: pointer;\n",
              "      display: none;\n",
              "      fill: #1967D2;\n",
              "      height: 32px;\n",
              "      padding: 0 0 0 0;\n",
              "      width: 32px;\n",
              "    }\n",
              "\n",
              "    .colab-df-convert:hover {\n",
              "      background-color: #E2EBFA;\n",
              "      box-shadow: 0px 1px 2px rgba(60, 64, 67, 0.3), 0px 1px 3px 1px rgba(60, 64, 67, 0.15);\n",
              "      fill: #174EA6;\n",
              "    }\n",
              "\n",
              "    [theme=dark] .colab-df-convert {\n",
              "      background-color: #3B4455;\n",
              "      fill: #D2E3FC;\n",
              "    }\n",
              "\n",
              "    [theme=dark] .colab-df-convert:hover {\n",
              "      background-color: #434B5C;\n",
              "      box-shadow: 0px 1px 3px 1px rgba(0, 0, 0, 0.15);\n",
              "      filter: drop-shadow(0px 1px 2px rgba(0, 0, 0, 0.3));\n",
              "      fill: #FFFFFF;\n",
              "    }\n",
              "  </style>\n",
              "\n",
              "      <script>\n",
              "        const buttonEl =\n",
              "          document.querySelector('#df-fc87937c-5f63-451c-85ed-7397c5bc2f56 button.colab-df-convert');\n",
              "        buttonEl.style.display =\n",
              "          google.colab.kernel.accessAllowed ? 'block' : 'none';\n",
              "\n",
              "        async function convertToInteractive(key) {\n",
              "          const element = document.querySelector('#df-fc87937c-5f63-451c-85ed-7397c5bc2f56');\n",
              "          const dataTable =\n",
              "            await google.colab.kernel.invokeFunction('convertToInteractive',\n",
              "                                                     [key], {});\n",
              "          if (!dataTable) return;\n",
              "\n",
              "          const docLinkHtml = 'Like what you see? Visit the ' +\n",
              "            '<a target=\"_blank\" href=https://colab.research.google.com/notebooks/data_table.ipynb>data table notebook</a>'\n",
              "            + ' to learn more about interactive tables.';\n",
              "          element.innerHTML = '';\n",
              "          dataTable['output_type'] = 'display_data';\n",
              "          await google.colab.output.renderOutput(dataTable, element);\n",
              "          const docLink = document.createElement('div');\n",
              "          docLink.innerHTML = docLinkHtml;\n",
              "          element.appendChild(docLink);\n",
              "        }\n",
              "      </script>\n",
              "    </div>\n",
              "  </div>\n",
              "  "
            ],
            "text/plain": [
              "        age  trestbps      chol    thalch  ...  ca_3.0  thal_1  thal_0  thal_2\n",
              "0  1.052551  0.742169  0.083947  0.438890  ...       0       1       0       0\n",
              "1  1.476537  1.631331  0.878638 -1.189416  ...       1       0       1       0\n",
              "2  1.476537 -0.739767  0.023970 -0.375263  ...       0       0       0       1\n",
              "3 -1.703359 -0.146993  0.338848  1.873351  ...       0       0       1       0\n",
              "4 -1.279373 -0.146993 -0.350884  1.291813  ...       0       0       1       0\n",
              "\n",
              "[5 rows x 29 columns]"
            ]
          },
          "metadata": {},
          "execution_count": 9
        }
      ]
    },
    {
      "cell_type": "code",
      "source": [
        "# Shuffle the dataset\n",
        "from sklearn.utils import shuffle\n",
        "df_ml = shuffle(df_ml, random_state=20).reset_index(drop=True) # so that it is reproducible"
      ],
      "metadata": {
        "id": "hnZWBOi83Mkv"
      },
      "execution_count": 10,
      "outputs": []
    },
    {
      "cell_type": "code",
      "source": [
        "# After shuffling\n",
        "df_ml.head()"
      ],
      "metadata": {
        "colab": {
          "base_uri": "https://localhost:8080/",
          "height": 288
        },
        "id": "G2lq0sAewdi3",
        "outputId": "20acc1e4-da96-4568-8b0c-12d52d15e8f4"
      },
      "execution_count": 11,
      "outputs": [
        {
          "output_type": "execute_result",
          "data": {
            "text/html": [
              "\n",
              "  <div id=\"df-befa3e63-2565-44c8-b487-897047d6ab63\">\n",
              "    <div class=\"colab-df-container\">\n",
              "      <div>\n",
              "<style scoped>\n",
              "    .dataframe tbody tr th:only-of-type {\n",
              "        vertical-align: middle;\n",
              "    }\n",
              "\n",
              "    .dataframe tbody tr th {\n",
              "        vertical-align: top;\n",
              "    }\n",
              "\n",
              "    .dataframe thead th {\n",
              "        text-align: right;\n",
              "    }\n",
              "</style>\n",
              "<table border=\"1\" class=\"dataframe\">\n",
              "  <thead>\n",
              "    <tr style=\"text-align: right;\">\n",
              "      <th></th>\n",
              "      <th>age</th>\n",
              "      <th>trestbps</th>\n",
              "      <th>chol</th>\n",
              "      <th>thalch</th>\n",
              "      <th>oldpeak</th>\n",
              "      <th>heart disease</th>\n",
              "      <th>sex_0</th>\n",
              "      <th>sex_1</th>\n",
              "      <th>cp_3</th>\n",
              "      <th>cp_1</th>\n",
              "      <th>cp_2</th>\n",
              "      <th>cp_0</th>\n",
              "      <th>fbs_0</th>\n",
              "      <th>fbs_1</th>\n",
              "      <th>restecg_2</th>\n",
              "      <th>restecg_0</th>\n",
              "      <th>restecg_1</th>\n",
              "      <th>exang_0</th>\n",
              "      <th>exang_1</th>\n",
              "      <th>slope_2</th>\n",
              "      <th>slope_1</th>\n",
              "      <th>slope_0</th>\n",
              "      <th>ca_0.0</th>\n",
              "      <th>ca_1.0</th>\n",
              "      <th>ca_2.0</th>\n",
              "      <th>ca_3.0</th>\n",
              "      <th>thal_1</th>\n",
              "      <th>thal_0</th>\n",
              "      <th>thal_2</th>\n",
              "    </tr>\n",
              "  </thead>\n",
              "  <tbody>\n",
              "    <tr>\n",
              "      <th>0</th>\n",
              "      <td>1.370541</td>\n",
              "      <td>2.164828</td>\n",
              "      <td>0.008976</td>\n",
              "      <td>1.020429</td>\n",
              "      <td>0.142099</td>\n",
              "      <td>1</td>\n",
              "      <td>1</td>\n",
              "      <td>0</td>\n",
              "      <td>1</td>\n",
              "      <td>0</td>\n",
              "      <td>0</td>\n",
              "      <td>0</td>\n",
              "      <td>0</td>\n",
              "      <td>1</td>\n",
              "      <td>0</td>\n",
              "      <td>1</td>\n",
              "      <td>0</td>\n",
              "      <td>0</td>\n",
              "      <td>1</td>\n",
              "      <td>0</td>\n",
              "      <td>1</td>\n",
              "      <td>0</td>\n",
              "      <td>0</td>\n",
              "      <td>0</td>\n",
              "      <td>1</td>\n",
              "      <td>0</td>\n",
              "      <td>0</td>\n",
              "      <td>0</td>\n",
              "      <td>1</td>\n",
              "    </tr>\n",
              "    <tr>\n",
              "      <th>1</th>\n",
              "      <td>-1.279373</td>\n",
              "      <td>-1.213987</td>\n",
              "      <td>0.608743</td>\n",
              "      <td>1.291813</td>\n",
              "      <td>-0.861559</td>\n",
              "      <td>0</td>\n",
              "      <td>1</td>\n",
              "      <td>0</td>\n",
              "      <td>0</td>\n",
              "      <td>0</td>\n",
              "      <td>1</td>\n",
              "      <td>0</td>\n",
              "      <td>1</td>\n",
              "      <td>0</td>\n",
              "      <td>1</td>\n",
              "      <td>0</td>\n",
              "      <td>0</td>\n",
              "      <td>0</td>\n",
              "      <td>1</td>\n",
              "      <td>0</td>\n",
              "      <td>0</td>\n",
              "      <td>1</td>\n",
              "      <td>1</td>\n",
              "      <td>0</td>\n",
              "      <td>0</td>\n",
              "      <td>0</td>\n",
              "      <td>0</td>\n",
              "      <td>1</td>\n",
              "      <td>0</td>\n",
              "    </tr>\n",
              "    <tr>\n",
              "      <th>2</th>\n",
              "      <td>-1.067380</td>\n",
              "      <td>1.038556</td>\n",
              "      <td>0.293865</td>\n",
              "      <td>1.253044</td>\n",
              "      <td>0.643928</td>\n",
              "      <td>0</td>\n",
              "      <td>0</td>\n",
              "      <td>1</td>\n",
              "      <td>1</td>\n",
              "      <td>0</td>\n",
              "      <td>0</td>\n",
              "      <td>0</td>\n",
              "      <td>1</td>\n",
              "      <td>0</td>\n",
              "      <td>0</td>\n",
              "      <td>1</td>\n",
              "      <td>0</td>\n",
              "      <td>1</td>\n",
              "      <td>0</td>\n",
              "      <td>0</td>\n",
              "      <td>0</td>\n",
              "      <td>1</td>\n",
              "      <td>1</td>\n",
              "      <td>0</td>\n",
              "      <td>0</td>\n",
              "      <td>0</td>\n",
              "      <td>0</td>\n",
              "      <td>1</td>\n",
              "      <td>0</td>\n",
              "    </tr>\n",
              "    <tr>\n",
              "      <th>3</th>\n",
              "      <td>1.052551</td>\n",
              "      <td>-0.146993</td>\n",
              "      <td>1.538381</td>\n",
              "      <td>-0.258955</td>\n",
              "      <td>0.945025</td>\n",
              "      <td>1</td>\n",
              "      <td>0</td>\n",
              "      <td>1</td>\n",
              "      <td>1</td>\n",
              "      <td>0</td>\n",
              "      <td>0</td>\n",
              "      <td>0</td>\n",
              "      <td>0</td>\n",
              "      <td>1</td>\n",
              "      <td>1</td>\n",
              "      <td>0</td>\n",
              "      <td>0</td>\n",
              "      <td>0</td>\n",
              "      <td>1</td>\n",
              "      <td>0</td>\n",
              "      <td>0</td>\n",
              "      <td>1</td>\n",
              "      <td>0</td>\n",
              "      <td>0</td>\n",
              "      <td>0</td>\n",
              "      <td>1</td>\n",
              "      <td>0</td>\n",
              "      <td>0</td>\n",
              "      <td>1</td>\n",
              "    </tr>\n",
              "    <tr>\n",
              "      <th>4</th>\n",
              "      <td>-2.551331</td>\n",
              "      <td>-0.146993</td>\n",
              "      <td>-0.350884</td>\n",
              "      <td>2.454889</td>\n",
              "      <td>-0.861559</td>\n",
              "      <td>0</td>\n",
              "      <td>0</td>\n",
              "      <td>1</td>\n",
              "      <td>0</td>\n",
              "      <td>1</td>\n",
              "      <td>0</td>\n",
              "      <td>0</td>\n",
              "      <td>1</td>\n",
              "      <td>0</td>\n",
              "      <td>1</td>\n",
              "      <td>0</td>\n",
              "      <td>0</td>\n",
              "      <td>1</td>\n",
              "      <td>0</td>\n",
              "      <td>0</td>\n",
              "      <td>0</td>\n",
              "      <td>1</td>\n",
              "      <td>1</td>\n",
              "      <td>0</td>\n",
              "      <td>0</td>\n",
              "      <td>0</td>\n",
              "      <td>0</td>\n",
              "      <td>1</td>\n",
              "      <td>0</td>\n",
              "    </tr>\n",
              "  </tbody>\n",
              "</table>\n",
              "</div>\n",
              "      <button class=\"colab-df-convert\" onclick=\"convertToInteractive('df-befa3e63-2565-44c8-b487-897047d6ab63')\"\n",
              "              title=\"Convert this dataframe to an interactive table.\"\n",
              "              style=\"display:none;\">\n",
              "        \n",
              "  <svg xmlns=\"http://www.w3.org/2000/svg\" height=\"24px\"viewBox=\"0 0 24 24\"\n",
              "       width=\"24px\">\n",
              "    <path d=\"M0 0h24v24H0V0z\" fill=\"none\"/>\n",
              "    <path d=\"M18.56 5.44l.94 2.06.94-2.06 2.06-.94-2.06-.94-.94-2.06-.94 2.06-2.06.94zm-11 1L8.5 8.5l.94-2.06 2.06-.94-2.06-.94L8.5 2.5l-.94 2.06-2.06.94zm10 10l.94 2.06.94-2.06 2.06-.94-2.06-.94-.94-2.06-.94 2.06-2.06.94z\"/><path d=\"M17.41 7.96l-1.37-1.37c-.4-.4-.92-.59-1.43-.59-.52 0-1.04.2-1.43.59L10.3 9.45l-7.72 7.72c-.78.78-.78 2.05 0 2.83L4 21.41c.39.39.9.59 1.41.59.51 0 1.02-.2 1.41-.59l7.78-7.78 2.81-2.81c.8-.78.8-2.07 0-2.86zM5.41 20L4 18.59l7.72-7.72 1.47 1.35L5.41 20z\"/>\n",
              "  </svg>\n",
              "      </button>\n",
              "      \n",
              "  <style>\n",
              "    .colab-df-container {\n",
              "      display:flex;\n",
              "      flex-wrap:wrap;\n",
              "      gap: 12px;\n",
              "    }\n",
              "\n",
              "    .colab-df-convert {\n",
              "      background-color: #E8F0FE;\n",
              "      border: none;\n",
              "      border-radius: 50%;\n",
              "      cursor: pointer;\n",
              "      display: none;\n",
              "      fill: #1967D2;\n",
              "      height: 32px;\n",
              "      padding: 0 0 0 0;\n",
              "      width: 32px;\n",
              "    }\n",
              "\n",
              "    .colab-df-convert:hover {\n",
              "      background-color: #E2EBFA;\n",
              "      box-shadow: 0px 1px 2px rgba(60, 64, 67, 0.3), 0px 1px 3px 1px rgba(60, 64, 67, 0.15);\n",
              "      fill: #174EA6;\n",
              "    }\n",
              "\n",
              "    [theme=dark] .colab-df-convert {\n",
              "      background-color: #3B4455;\n",
              "      fill: #D2E3FC;\n",
              "    }\n",
              "\n",
              "    [theme=dark] .colab-df-convert:hover {\n",
              "      background-color: #434B5C;\n",
              "      box-shadow: 0px 1px 3px 1px rgba(0, 0, 0, 0.15);\n",
              "      filter: drop-shadow(0px 1px 2px rgba(0, 0, 0, 0.3));\n",
              "      fill: #FFFFFF;\n",
              "    }\n",
              "  </style>\n",
              "\n",
              "      <script>\n",
              "        const buttonEl =\n",
              "          document.querySelector('#df-befa3e63-2565-44c8-b487-897047d6ab63 button.colab-df-convert');\n",
              "        buttonEl.style.display =\n",
              "          google.colab.kernel.accessAllowed ? 'block' : 'none';\n",
              "\n",
              "        async function convertToInteractive(key) {\n",
              "          const element = document.querySelector('#df-befa3e63-2565-44c8-b487-897047d6ab63');\n",
              "          const dataTable =\n",
              "            await google.colab.kernel.invokeFunction('convertToInteractive',\n",
              "                                                     [key], {});\n",
              "          if (!dataTable) return;\n",
              "\n",
              "          const docLinkHtml = 'Like what you see? Visit the ' +\n",
              "            '<a target=\"_blank\" href=https://colab.research.google.com/notebooks/data_table.ipynb>data table notebook</a>'\n",
              "            + ' to learn more about interactive tables.';\n",
              "          element.innerHTML = '';\n",
              "          dataTable['output_type'] = 'display_data';\n",
              "          await google.colab.output.renderOutput(dataTable, element);\n",
              "          const docLink = document.createElement('div');\n",
              "          docLink.innerHTML = docLinkHtml;\n",
              "          element.appendChild(docLink);\n",
              "        }\n",
              "      </script>\n",
              "    </div>\n",
              "  </div>\n",
              "  "
            ],
            "text/plain": [
              "        age  trestbps      chol    thalch  ...  ca_3.0  thal_1  thal_0  thal_2\n",
              "0  1.370541  2.164828  0.008976  1.020429  ...       0       0       0       1\n",
              "1 -1.279373 -1.213987  0.608743  1.291813  ...       0       0       1       0\n",
              "2 -1.067380  1.038556  0.293865  1.253044  ...       0       0       1       0\n",
              "3  1.052551 -0.146993  1.538381 -0.258955  ...       1       0       0       1\n",
              "4 -2.551331 -0.146993 -0.350884  2.454889  ...       0       0       1       0\n",
              "\n",
              "[5 rows x 29 columns]"
            ]
          },
          "metadata": {},
          "execution_count": 11
        }
      ]
    },
    {
      "cell_type": "markdown",
      "source": [
        "### Split the dataset"
      ],
      "metadata": {
        "id": "5w4l8l1TqPK3"
      }
    },
    {
      "cell_type": "code",
      "source": [
        "# Separate Features(x) and Target Matrix(y)\n",
        "df_ml_x = df_ml.drop('heart disease',axis = 1) \n",
        "df_ml_y = df_ml['heart disease']"
      ],
      "metadata": {
        "id": "ukY25CCyXcL0"
      },
      "execution_count": 31,
      "outputs": []
    },
    {
      "cell_type": "code",
      "source": [
        "from sklearn.model_selection import train_test_split # Import train_test_split function\n",
        "# Split dataset into training set and test set\n",
        "x_train, x_test, y_train, y_test = train_test_split(df_ml_x, df_ml_y, test_size=0.3,random_state=888) # 70% training and 30% test"
      ],
      "metadata": {
        "id": "HOu8VbMmacyB"
      },
      "execution_count": 32,
      "outputs": []
    },
    {
      "cell_type": "markdown",
      "source": [
        "### Train and test each model"
      ],
      "metadata": {
        "id": "I5K2rmgStOpl"
      }
    },
    {
      "cell_type": "code",
      "source": [
        "from sklearn.metrics import accuracy_score, confusion_matrix, classification_report\n",
        "\n",
        "def print_score(clf, x_train, y_train, x_test, y_test):\n",
        "        pred = clf.predict(x_test)\n",
        "        clf_report = pd.DataFrame(classification_report(y_test, pred, output_dict=True))\n",
        "        print(\"Test Result:\\n================================================\")        \n",
        "        print(f\"Accuracy Score: {accuracy_score(y_test, pred) * 100:.2f}%\")\n",
        "        print(\"_______________________________________________\")\n",
        "        print(f\"CLASSIFICATION REPORT:\\n{clf_report}\")\n",
        "        print(\"_______________________________________________\")\n",
        "        print(f\"Confusion Matrix: \\n {confusion_matrix(y_test, pred)}\\n\")"
      ],
      "metadata": {
        "id": "DIYWcf1WAUnT"
      },
      "execution_count": 37,
      "outputs": []
    },
    {
      "cell_type": "markdown",
      "source": [
        "### K-Nearest Neighbors (KNN)"
      ],
      "metadata": {
        "id": "DX8_PVLAHmPh"
      }
    },
    {
      "cell_type": "code",
      "source": [
        "from sklearn.neighbors import KNeighborsClassifier\n",
        "\n",
        "knn_clf = KNeighborsClassifier()\n",
        "knn_clf.fit(x_train, y_train)\n",
        "\n",
        "print_score(knn_clf, x_train, y_train, x_test, y_test)"
      ],
      "metadata": {
        "colab": {
          "base_uri": "https://localhost:8080/"
        },
        "id": "jbZEAfghEajs",
        "outputId": "2ad19d01-be18-4dab-8f1f-f75743f58463"
      },
      "execution_count": 38,
      "outputs": [
        {
          "output_type": "stream",
          "name": "stdout",
          "text": [
            "Test Result:\n",
            "================================================\n",
            "Accuracy Score: 78.89%\n",
            "_______________________________________________\n",
            "CLASSIFICATION REPORT:\n",
            "                   0          1  accuracy  macro avg  weighted avg\n",
            "precision   0.796296   0.777778  0.788889   0.787037      0.788272\n",
            "recall      0.843137   0.717949  0.788889   0.780543      0.788889\n",
            "f1-score    0.819048   0.746667  0.788889   0.782857      0.787683\n",
            "support    51.000000  39.000000  0.788889  90.000000     90.000000\n",
            "_______________________________________________\n",
            "Confusion Matrix: \n",
            " [[43  8]\n",
            " [11 28]]\n",
            "\n"
          ]
        }
      ]
    },
    {
      "cell_type": "markdown",
      "source": [
        "#### Hyperparameter Tuning"
      ],
      "metadata": {
        "id": "zTvEXoWiJV5G"
      }
    },
    {
      "cell_type": "code",
      "source": [
        "from sklearn.model_selection import GridSearchCV\n",
        "leaf_size = list(range(1,50))\n",
        "n_neighbors = list(range(1,30))\n",
        "p=[1,2]\n",
        "hyperparameters = dict(leaf_size=leaf_size, n_neighbors=n_neighbors, p=p)\n",
        "# Create new KNN object\n",
        "knn_clf2 = KNeighborsClassifier()\n",
        "# Use GridSearch\n",
        "knn_cv = GridSearchCV(knn_clf2, hyperparameters, cv=10)\n",
        "# Fit the model\n",
        "best_model = knn_cv.fit(df_ml_x,df_ml_y)\n",
        "best_params = knn_cv.best_params_\n",
        "print(f\"Best params: {best_params}\")"
      ],
      "metadata": {
        "colab": {
          "base_uri": "https://localhost:8080/"
        },
        "id": "slrgGiQtJQlw",
        "outputId": "93625529-a944-4f29-be6c-c0d3e7b3154c"
      },
      "execution_count": 51,
      "outputs": [
        {
          "output_type": "stream",
          "name": "stdout",
          "text": [
            "Best params: {'leaf_size': 1, 'n_neighbors': 7, 'p': 2}\n"
          ]
        }
      ]
    },
    {
      "cell_type": "code",
      "source": [
        "knn_clf = KNeighborsClassifier(**best_params)\n",
        "knn_clf.fit(x_train, y_train)\n",
        "print_score(knn_clf, x_train, y_train, x_test, y_test)"
      ],
      "metadata": {
        "colab": {
          "base_uri": "https://localhost:8080/"
        },
        "id": "cMQlcopxLd-V",
        "outputId": "248b561e-5d3c-4ab9-cd15-21486fafac70"
      },
      "execution_count": 52,
      "outputs": [
        {
          "output_type": "stream",
          "name": "stdout",
          "text": [
            "Test Result:\n",
            "================================================\n",
            "Accuracy Score: 80.00%\n",
            "_______________________________________________\n",
            "CLASSIFICATION REPORT:\n",
            "                   0          1  accuracy  macro avg  weighted avg\n",
            "precision   0.800000   0.800000       0.8   0.800000      0.800000\n",
            "recall      0.862745   0.717949       0.8   0.790347      0.800000\n",
            "f1-score    0.830189   0.756757       0.8   0.793473      0.798368\n",
            "support    51.000000  39.000000       0.8  90.000000     90.000000\n",
            "_______________________________________________\n",
            "Confusion Matrix: \n",
            " [[44  7]\n",
            " [11 28]]\n",
            "\n"
          ]
        }
      ]
    },
    {
      "cell_type": "code",
      "source": [
        "knn_a_score = \"{:.2f}\".format(accuracy_score(y_train, knn_clf.predict(x_train)) * 100)"
      ],
      "metadata": {
        "id": "6bihbIYmMsFN"
      },
      "execution_count": 53,
      "outputs": []
    },
    {
      "cell_type": "markdown",
      "source": [
        "### Support Vector Machines (SVM)"
      ],
      "metadata": {
        "id": "d0erqtiJHwRU"
      }
    },
    {
      "cell_type": "code",
      "source": [
        "from sklearn.svm import SVC\n",
        "\n",
        "\n",
        "svm_clf = SVC(kernel='rbf', gamma=0.1, C=1.0)\n",
        "svm_clf.fit(x_train, y_train)\n",
        "\n",
        "print_score(svm_clf, x_train, y_train, x_test, y_test, train=True)\n",
        "print_score(svm_clf, x_train, y_train, x_test, y_test, train=False)"
      ],
      "metadata": {
        "colab": {
          "base_uri": "https://localhost:8080/"
        },
        "id": "CKIYkwYPGmaA",
        "outputId": "1731a3c7-35cc-4005-a724-1069af3a35cc"
      },
      "execution_count": 24,
      "outputs": [
        {
          "output_type": "stream",
          "name": "stdout",
          "text": [
            "Train Result:\n",
            "================================================\n",
            "Accuracy Score: 93.30%\n",
            "_______________________________________________\n",
            "CLASSIFICATION REPORT:\n",
            "                    0           1  accuracy   macro avg  weighted avg\n",
            "precision    0.905983    0.967391  0.933014    0.936687      0.935365\n",
            "recall       0.972477    0.890000  0.933014    0.931239      0.933014\n",
            "f1-score     0.938053    0.927083  0.933014    0.932568      0.932804\n",
            "support    109.000000  100.000000  0.933014  209.000000    209.000000\n",
            "_______________________________________________\n",
            "Confusion Matrix: \n",
            " [[106   3]\n",
            " [ 11  89]]\n",
            "\n",
            "Test Result:\n",
            "================================================\n",
            "Accuracy Score: 81.11%\n",
            "_______________________________________________\n",
            "CLASSIFICATION REPORT:\n",
            "                   0          1  accuracy  macro avg  weighted avg\n",
            "precision   0.803571   0.823529  0.811111   0.813550      0.812220\n",
            "recall      0.882353   0.717949  0.811111   0.800151      0.811111\n",
            "f1-score    0.841121   0.767123  0.811111   0.804122      0.809056\n",
            "support    51.000000  39.000000  0.811111  90.000000     90.000000\n",
            "_______________________________________________\n",
            "Confusion Matrix: \n",
            " [[45  6]\n",
            " [11 28]]\n",
            "\n"
          ]
        }
      ]
    },
    {
      "cell_type": "markdown",
      "source": [
        "#### Hyperparamater Tuning"
      ],
      "metadata": {
        "id": "ql4cGqSyYYxX"
      }
    },
    {
      "cell_type": "code",
      "source": [
        "svm_clf = SVC(kernel='rbf', gamma=0.1, C=1.0)\n",
        "\n",
        "params = {\"C\":(0.1, 0.5, 1, 2, 5, 10, 20), \n",
        "          \"gamma\":(0.001, 0.01, 0.1, 0.25, 0.5, 0.75, 1), \n",
        "          \"kernel\":('linear', 'poly', 'rbf')}\n",
        "\n",
        "svm_cv = GridSearchCV(svm_clf, params, n_jobs=-1, cv=5, verbose=1, scoring=\"accuracy\")\n",
        "svm_cv.fit(x_train, y_train)\n",
        "best_params = svm_cv.best_params_\n",
        "print(f\"Best params: {best_params}\")"
      ],
      "metadata": {
        "colab": {
          "base_uri": "https://localhost:8080/"
        },
        "id": "nrUBd1lpNvUP",
        "outputId": "c3bbfe37-1084-4393-945e-008d3ac6edc1"
      },
      "execution_count": 49,
      "outputs": [
        {
          "output_type": "stream",
          "name": "stdout",
          "text": [
            "Fitting 5 folds for each of 147 candidates, totalling 735 fits\n",
            "Best params: {'C': 20, 'gamma': 0.01, 'kernel': 'rbf'}\n"
          ]
        }
      ]
    },
    {
      "cell_type": "code",
      "source": [
        "svm_clf = SVC(**best_params)\n",
        "svm_clf.fit(x_train, y_train)\n",
        "\n",
        "print_score(svm_clf, x_train, y_train, x_test, y_test)"
      ],
      "metadata": {
        "colab": {
          "base_uri": "https://localhost:8080/"
        },
        "id": "yMsqTEvZODbJ",
        "outputId": "cb88211d-bf98-4900-a265-18efc8b7ad85"
      },
      "execution_count": 50,
      "outputs": [
        {
          "output_type": "stream",
          "name": "stdout",
          "text": [
            "Test Result:\n",
            "================================================\n",
            "Accuracy Score: 86.67%\n",
            "_______________________________________________\n",
            "CLASSIFICATION REPORT:\n",
            "                   0          1  accuracy  macro avg  weighted avg\n",
            "precision   0.842105   0.909091  0.866667   0.875598      0.871132\n",
            "recall      0.941176   0.769231  0.866667   0.855204      0.866667\n",
            "f1-score    0.888889   0.833333  0.866667   0.861111      0.864815\n",
            "support    51.000000  39.000000  0.866667  90.000000     90.000000\n",
            "_______________________________________________\n",
            "Confusion Matrix: \n",
            " [[48  3]\n",
            " [ 9 30]]\n",
            "\n"
          ]
        }
      ]
    },
    {
      "cell_type": "code",
      "source": [
        "svm_a_score = \"{:.2f}\".format(accuracy_score(y_train, svm_clf.predict(x_train)) * 100)"
      ],
      "metadata": {
        "id": "OkMBCY9RYGWL"
      },
      "execution_count": 54,
      "outputs": []
    },
    {
      "cell_type": "markdown",
      "source": [
        "### Decision Tree (DT)"
      ],
      "metadata": {
        "id": "Fdn4UhMjjaxW"
      }
    },
    {
      "cell_type": "code",
      "source": [
        "from sklearn.tree import DecisionTreeClassifier\n",
        "\n",
        "\n",
        "tree_clf = DecisionTreeClassifier(random_state=88)\n",
        "tree_clf.fit(x_train, y_train)\n",
        "\n",
        "print_score(tree_clf, x_train, y_train, x_test, y_test, train=True)\n",
        "print_score(tree_clf, x_train, y_train, x_test, y_test, train=False)"
      ],
      "metadata": {
        "colab": {
          "base_uri": "https://localhost:8080/"
        },
        "id": "IxjkdL48H1bY",
        "outputId": "1dcfa578-37d9-4e38-e705-23bc73b4508e"
      },
      "execution_count": 26,
      "outputs": [
        {
          "output_type": "stream",
          "name": "stdout",
          "text": [
            "Train Result:\n",
            "================================================\n",
            "Accuracy Score: 100.00%\n",
            "_______________________________________________\n",
            "CLASSIFICATION REPORT:\n",
            "               0      1  accuracy  macro avg  weighted avg\n",
            "precision    1.0    1.0       1.0        1.0           1.0\n",
            "recall       1.0    1.0       1.0        1.0           1.0\n",
            "f1-score     1.0    1.0       1.0        1.0           1.0\n",
            "support    109.0  100.0       1.0      209.0         209.0\n",
            "_______________________________________________\n",
            "Confusion Matrix: \n",
            " [[109   0]\n",
            " [  0 100]]\n",
            "\n",
            "Test Result:\n",
            "================================================\n",
            "Accuracy Score: 70.00%\n",
            "_______________________________________________\n",
            "CLASSIFICATION REPORT:\n",
            "                   0          1  accuracy  macro avg  weighted avg\n",
            "precision   0.714286   0.676471       0.7   0.695378      0.697899\n",
            "recall      0.784314   0.589744       0.7   0.687029      0.700000\n",
            "f1-score    0.747664   0.630137       0.7   0.688900      0.696735\n",
            "support    51.000000  39.000000       0.7  90.000000     90.000000\n",
            "_______________________________________________\n",
            "Confusion Matrix: \n",
            " [[40 11]\n",
            " [16 23]]\n",
            "\n"
          ]
        }
      ]
    },
    {
      "cell_type": "markdown",
      "source": [
        "#### Hyperparameter Tuning"
      ],
      "metadata": {
        "id": "8JM7Lm8hYd08"
      }
    },
    {
      "cell_type": "code",
      "source": [
        "params = {\"criterion\":(\"gini\", \"entropy\"), \n",
        "          \"splitter\":(\"best\", \"random\"), \n",
        "          \"max_depth\":(list(range(1, 20))), \n",
        "          \"min_samples_split\":[2, 3, 4], \n",
        "          \"min_samples_leaf\":list(range(1, 20))\n",
        "          }\n",
        "\n",
        "tree_clf = DecisionTreeClassifier(random_state=88)\n",
        "tree_cv = GridSearchCV(tree_clf, params, scoring=\"accuracy\", n_jobs=-1, verbose=1, cv=3)\n",
        "tree_cv.fit(x_train, y_train)\n",
        "best_params = tree_cv.best_params_\n",
        "print(f'Best_params: {best_params}')"
      ],
      "metadata": {
        "colab": {
          "base_uri": "https://localhost:8080/"
        },
        "id": "8Gy5SV35Yim-",
        "outputId": "f2bad137-fd94-4694-b495-430fe8345098"
      },
      "execution_count": 56,
      "outputs": [
        {
          "output_type": "stream",
          "name": "stdout",
          "text": [
            "Fitting 3 folds for each of 4332 candidates, totalling 12996 fits\n",
            "Best_params: {'criterion': 'gini', 'max_depth': 3, 'min_samples_leaf': 4, 'min_samples_split': 2, 'splitter': 'random'}\n"
          ]
        }
      ]
    },
    {
      "cell_type": "code",
      "source": [
        "tree_clf = DecisionTreeClassifier(**best_params)\n",
        "tree_clf.fit(x_train, y_train)\n",
        "\n",
        "print_score(tree_clf, x_train, y_train, x_test, y_test)"
      ],
      "metadata": {
        "colab": {
          "base_uri": "https://localhost:8080/"
        },
        "id": "e_i5ncjWY5Lq",
        "outputId": "4c999b59-7b16-4df2-91ac-2ab15e9966bf"
      },
      "execution_count": 58,
      "outputs": [
        {
          "output_type": "stream",
          "name": "stdout",
          "text": [
            "Test Result:\n",
            "================================================\n",
            "Accuracy Score: 81.11%\n",
            "_______________________________________________\n",
            "CLASSIFICATION REPORT:\n",
            "                   0          1  accuracy  macro avg  weighted avg\n",
            "precision   0.814815   0.805556  0.811111   0.810185      0.810802\n",
            "recall      0.862745   0.743590  0.811111   0.803167      0.811111\n",
            "f1-score    0.838095   0.773333  0.811111   0.805714      0.810032\n",
            "support    51.000000  39.000000  0.811111  90.000000     90.000000\n",
            "_______________________________________________\n",
            "Confusion Matrix: \n",
            " [[44  7]\n",
            " [10 29]]\n",
            "\n"
          ]
        }
      ]
    },
    {
      "cell_type": "code",
      "source": [
        "tree_a_score = \"{:.2f}\".format(accuracy_score(y_train, tree_clf.predict(x_train)) * 100)"
      ],
      "metadata": {
        "id": "4-6A0qWiZpp6"
      },
      "execution_count": 60,
      "outputs": []
    },
    {
      "cell_type": "markdown",
      "source": [
        "### Random Forest (RF)"
      ],
      "metadata": {
        "id": "55hdzDZQIAwI"
      }
    },
    {
      "cell_type": "code",
      "source": [
        "from sklearn.ensemble import RandomForestClassifier\n",
        "from sklearn.model_selection import RandomizedSearchCV\n",
        "\n",
        "rf_clf = RandomForestClassifier(n_estimators=1000, random_state=88)\n",
        "rf_clf.fit(x_train, y_train)\n",
        "\n",
        "print_score(rf_clf, x_train, y_train, x_test, y_test)"
      ],
      "metadata": {
        "colab": {
          "base_uri": "https://localhost:8080/"
        },
        "id": "rXbCXWm0IIQ2",
        "outputId": "2c2729af-1ecf-43ff-e42b-fd9a364706db"
      },
      "execution_count": 28,
      "outputs": [
        {
          "output_type": "stream",
          "name": "stdout",
          "text": [
            "Train Result:\n",
            "================================================\n",
            "Accuracy Score: 100.00%\n",
            "_______________________________________________\n",
            "CLASSIFICATION REPORT:\n",
            "               0      1  accuracy  macro avg  weighted avg\n",
            "precision    1.0    1.0       1.0        1.0           1.0\n",
            "recall       1.0    1.0       1.0        1.0           1.0\n",
            "f1-score     1.0    1.0       1.0        1.0           1.0\n",
            "support    109.0  100.0       1.0      209.0         209.0\n",
            "_______________________________________________\n",
            "Confusion Matrix: \n",
            " [[109   0]\n",
            " [  0 100]]\n",
            "\n",
            "Test Result:\n",
            "================================================\n",
            "Accuracy Score: 80.00%\n",
            "_______________________________________________\n",
            "CLASSIFICATION REPORT:\n",
            "                   0          1  accuracy  macro avg  weighted avg\n",
            "precision   0.823529   0.769231       0.8    0.79638           0.8\n",
            "recall      0.823529   0.769231       0.8    0.79638           0.8\n",
            "f1-score    0.823529   0.769231       0.8    0.79638           0.8\n",
            "support    51.000000  39.000000       0.8   90.00000          90.0\n",
            "_______________________________________________\n",
            "Confusion Matrix: \n",
            " [[42  9]\n",
            " [ 9 30]]\n",
            "\n"
          ]
        }
      ]
    },
    {
      "cell_type": "markdown",
      "source": [
        "#### Hyperparameter Tuning"
      ],
      "metadata": {
        "id": "r-Vy_-DQZK3U"
      }
    },
    {
      "cell_type": "code",
      "source": [
        "n_estimators = [500, 900, 1100, 1500]\n",
        "max_features = ['auto', 'sqrt']\n",
        "max_depth = [2, 3, 5, 10, 15, None]\n",
        "min_samples_split = [2, 5, 10]\n",
        "min_samples_leaf = [1, 2, 4]\n",
        "\n",
        "params_grid = {\n",
        "    'n_estimators': n_estimators, \n",
        "    'max_features': max_features,\n",
        "    'max_depth': max_depth, \n",
        "    'min_samples_split': min_samples_split,\n",
        "    'min_samples_leaf': min_samples_leaf\n",
        "              }\n",
        "rf_clf = RandomForestClassifier(random_state=88)\n",
        "rf_cv = GridSearchCV(rf_clf, params_grid, scoring=\"accuracy\", cv=3, verbose=1, n_jobs=-1)\n",
        "rf_cv.fit(x_train, y_train)\n",
        "best_params = rf_cv.best_params_\n",
        "print(f\"Best parameters: {best_params}\")            "
      ],
      "metadata": {
        "colab": {
          "base_uri": "https://localhost:8080/"
        },
        "id": "sis-xociZJqJ",
        "outputId": "5d0ffaa9-27a2-4e5d-d0a5-8f1c6ef58e36"
      },
      "execution_count": 59,
      "outputs": [
        {
          "output_type": "stream",
          "name": "stdout",
          "text": [
            "Fitting 3 folds for each of 432 candidates, totalling 1296 fits\n",
            "Best parameters: {'max_depth': 5, 'max_features': 'auto', 'min_samples_leaf': 1, 'min_samples_split': 2, 'n_estimators': 500}\n"
          ]
        }
      ]
    },
    {
      "cell_type": "code",
      "source": [
        "rf_clf = RandomForestClassifier(**best_params)\n",
        "rf_clf.fit(x_train, y_train)\n",
        "\n",
        "print_score(rf_clf, x_train, y_train, x_test, y_test)"
      ],
      "metadata": {
        "colab": {
          "base_uri": "https://localhost:8080/"
        },
        "id": "Y5v1Wy8jZN0v",
        "outputId": "cfa4def5-13a1-409e-c87a-1ba5a1834238"
      },
      "execution_count": 61,
      "outputs": [
        {
          "output_type": "stream",
          "name": "stdout",
          "text": [
            "Test Result:\n",
            "================================================\n",
            "Accuracy Score: 80.00%\n",
            "_______________________________________________\n",
            "CLASSIFICATION REPORT:\n",
            "                   0          1  accuracy  macro avg  weighted avg\n",
            "precision   0.811321   0.783784       0.8   0.797552      0.799388\n",
            "recall      0.843137   0.743590       0.8   0.793363      0.800000\n",
            "f1-score    0.826923   0.763158       0.8   0.795040      0.799291\n",
            "support    51.000000  39.000000       0.8  90.000000     90.000000\n",
            "_______________________________________________\n",
            "Confusion Matrix: \n",
            " [[43  8]\n",
            " [10 29]]\n",
            "\n"
          ]
        }
      ]
    },
    {
      "cell_type": "code",
      "source": [
        "rf_a_score = \"{:.2f}\".format(accuracy_score(y_train, rf_clf.predict(x_train)) * 100)"
      ],
      "metadata": {
        "id": "Th4ysANfac4f"
      },
      "execution_count": 62,
      "outputs": []
    },
    {
      "cell_type": "code",
      "source": [
        "# Summary of the accuracy scores\n",
        "a_scores = [knn_a_score, svm_a_score, tree_a_score, rf_a_score]\n",
        "accuracy = pd.DataFrame(a_scores, columns=['Accuracy Score'], index=['K-Nearest Neighbors', 'Support Vector Machines', 'Decision Tree', 'Random Forest'])\n",
        "accuracy"
      ],
      "metadata": {
        "colab": {
          "base_uri": "https://localhost:8080/",
          "height": 175
        },
        "id": "I0BfDxuhaaS7",
        "outputId": "e0dbca21-af2e-4fce-edb4-032753d979af"
      },
      "execution_count": 65,
      "outputs": [
        {
          "output_type": "execute_result",
          "data": {
            "text/html": [
              "\n",
              "  <div id=\"df-5013d65c-7673-4566-9d43-74acf42dbed3\">\n",
              "    <div class=\"colab-df-container\">\n",
              "      <div>\n",
              "<style scoped>\n",
              "    .dataframe tbody tr th:only-of-type {\n",
              "        vertical-align: middle;\n",
              "    }\n",
              "\n",
              "    .dataframe tbody tr th {\n",
              "        vertical-align: top;\n",
              "    }\n",
              "\n",
              "    .dataframe thead th {\n",
              "        text-align: right;\n",
              "    }\n",
              "</style>\n",
              "<table border=\"1\" class=\"dataframe\">\n",
              "  <thead>\n",
              "    <tr style=\"text-align: right;\">\n",
              "      <th></th>\n",
              "      <th>Accuracy Score</th>\n",
              "    </tr>\n",
              "  </thead>\n",
              "  <tbody>\n",
              "    <tr>\n",
              "      <th>K-Nearest Neighbors</th>\n",
              "      <td>89.95</td>\n",
              "    </tr>\n",
              "    <tr>\n",
              "      <th>Support Vector Machines</th>\n",
              "      <td>90.91</td>\n",
              "    </tr>\n",
              "    <tr>\n",
              "      <th>Decision Tree</th>\n",
              "      <td>86.60</td>\n",
              "    </tr>\n",
              "    <tr>\n",
              "      <th>Random Forest</th>\n",
              "      <td>94.74</td>\n",
              "    </tr>\n",
              "  </tbody>\n",
              "</table>\n",
              "</div>\n",
              "      <button class=\"colab-df-convert\" onclick=\"convertToInteractive('df-5013d65c-7673-4566-9d43-74acf42dbed3')\"\n",
              "              title=\"Convert this dataframe to an interactive table.\"\n",
              "              style=\"display:none;\">\n",
              "        \n",
              "  <svg xmlns=\"http://www.w3.org/2000/svg\" height=\"24px\"viewBox=\"0 0 24 24\"\n",
              "       width=\"24px\">\n",
              "    <path d=\"M0 0h24v24H0V0z\" fill=\"none\"/>\n",
              "    <path d=\"M18.56 5.44l.94 2.06.94-2.06 2.06-.94-2.06-.94-.94-2.06-.94 2.06-2.06.94zm-11 1L8.5 8.5l.94-2.06 2.06-.94-2.06-.94L8.5 2.5l-.94 2.06-2.06.94zm10 10l.94 2.06.94-2.06 2.06-.94-2.06-.94-.94-2.06-.94 2.06-2.06.94z\"/><path d=\"M17.41 7.96l-1.37-1.37c-.4-.4-.92-.59-1.43-.59-.52 0-1.04.2-1.43.59L10.3 9.45l-7.72 7.72c-.78.78-.78 2.05 0 2.83L4 21.41c.39.39.9.59 1.41.59.51 0 1.02-.2 1.41-.59l7.78-7.78 2.81-2.81c.8-.78.8-2.07 0-2.86zM5.41 20L4 18.59l7.72-7.72 1.47 1.35L5.41 20z\"/>\n",
              "  </svg>\n",
              "      </button>\n",
              "      \n",
              "  <style>\n",
              "    .colab-df-container {\n",
              "      display:flex;\n",
              "      flex-wrap:wrap;\n",
              "      gap: 12px;\n",
              "    }\n",
              "\n",
              "    .colab-df-convert {\n",
              "      background-color: #E8F0FE;\n",
              "      border: none;\n",
              "      border-radius: 50%;\n",
              "      cursor: pointer;\n",
              "      display: none;\n",
              "      fill: #1967D2;\n",
              "      height: 32px;\n",
              "      padding: 0 0 0 0;\n",
              "      width: 32px;\n",
              "    }\n",
              "\n",
              "    .colab-df-convert:hover {\n",
              "      background-color: #E2EBFA;\n",
              "      box-shadow: 0px 1px 2px rgba(60, 64, 67, 0.3), 0px 1px 3px 1px rgba(60, 64, 67, 0.15);\n",
              "      fill: #174EA6;\n",
              "    }\n",
              "\n",
              "    [theme=dark] .colab-df-convert {\n",
              "      background-color: #3B4455;\n",
              "      fill: #D2E3FC;\n",
              "    }\n",
              "\n",
              "    [theme=dark] .colab-df-convert:hover {\n",
              "      background-color: #434B5C;\n",
              "      box-shadow: 0px 1px 3px 1px rgba(0, 0, 0, 0.15);\n",
              "      filter: drop-shadow(0px 1px 2px rgba(0, 0, 0, 0.3));\n",
              "      fill: #FFFFFF;\n",
              "    }\n",
              "  </style>\n",
              "\n",
              "      <script>\n",
              "        const buttonEl =\n",
              "          document.querySelector('#df-5013d65c-7673-4566-9d43-74acf42dbed3 button.colab-df-convert');\n",
              "        buttonEl.style.display =\n",
              "          google.colab.kernel.accessAllowed ? 'block' : 'none';\n",
              "\n",
              "        async function convertToInteractive(key) {\n",
              "          const element = document.querySelector('#df-5013d65c-7673-4566-9d43-74acf42dbed3');\n",
              "          const dataTable =\n",
              "            await google.colab.kernel.invokeFunction('convertToInteractive',\n",
              "                                                     [key], {});\n",
              "          if (!dataTable) return;\n",
              "\n",
              "          const docLinkHtml = 'Like what you see? Visit the ' +\n",
              "            '<a target=\"_blank\" href=https://colab.research.google.com/notebooks/data_table.ipynb>data table notebook</a>'\n",
              "            + ' to learn more about interactive tables.';\n",
              "          element.innerHTML = '';\n",
              "          dataTable['output_type'] = 'display_data';\n",
              "          await google.colab.output.renderOutput(dataTable, element);\n",
              "          const docLink = document.createElement('div');\n",
              "          docLink.innerHTML = docLinkHtml;\n",
              "          element.appendChild(docLink);\n",
              "        }\n",
              "      </script>\n",
              "    </div>\n",
              "  </div>\n",
              "  "
            ],
            "text/plain": [
              "                        Accuracy Score\n",
              "K-Nearest Neighbors              89.95\n",
              "Support Vector Machines          90.91\n",
              "Decision Tree                    86.60\n",
              "Random Forest                    94.74"
            ]
          },
          "metadata": {},
          "execution_count": 65
        }
      ]
    }
  ]
}